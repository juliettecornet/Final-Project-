{
 "cells": [
  {
   "cell_type": "markdown",
   "id": "9c4e065c-f086-45a3-8df7-7d20aa2be6ac",
   "metadata": {
    "tags": []
   },
   "source": [
    "# Sentiment Analysis of Taylor Swift's Albums\n",
    "\n",
    "## Part 1: Introduction \n",
    "\n",
    "#### As a comparative literature major, close-reader textual analysis is some thing I'm particularly interested in. Therefore, when we begun doing textual analysis via data science, I knew this was what I wanted to do my final project on. Considering Taylor Swift has recently been making a comeback, I thought it would intersting to look into her music and her persona which is where I got the inspiration for this project.\n",
    "\n",
    "#### Taylor swift is known for constantly re-inventing herself. Her ever-changing persona is known to be split up into different \"eras.\" While this is very apparent in the changes of her physial appearance and in her music videos and concert performances, I am curious to see if these shifts are identifiable from the lyrics in all her albums alone.Through data and textual analysis, I want to see if certain trends in her lyrics give us insight into the different changes she has undergone over the years. Therefore, through a combination of data science and textual analysis, is it possible to indenity different trends in Taylor Swift's lyrics throughout her albums?\n",
    "\n",
    "The dataset I will be using is from Github and has every lyric from every song form her first eight albums: https://github.com/rfordatascience/tidytuesday/blob/master/data/2020/2020-09-29/taylor_swift_lyrics.csv ."
   ]
  },
  {
   "cell_type": "markdown",
   "id": "d685d4e2-9650-4089-8c6b-512d364d3603",
   "metadata": {
    "tags": []
   },
   "source": [
    "## Part 2: Methods\n",
    "\n",
    "I will begin by importing the data frame using pandas. "
   ]
  },
  {
   "cell_type": "code",
   "execution_count": 32,
   "id": "30715b62-0f7d-4eea-b3cf-6f395ee621ee",
   "metadata": {},
   "outputs": [],
   "source": [
    "import pandas as pd"
   ]
  },
  {
   "cell_type": "code",
   "execution_count": 33,
   "id": "0ea26d7f-c057-49d8-af56-400f1ddff446",
   "metadata": {},
   "outputs": [],
   "source": [
    "df = pd.read_csv('https://raw.githubusercontent.com/rfordatascience/tidytuesday/master/data/2020/2020-09-29/taylor_swift_lyrics.csv')"
   ]
  },
  {
   "cell_type": "markdown",
   "id": "f0ea9b7c-a741-4ca5-a8cc-5e03d3369591",
   "metadata": {},
   "source": [
    "Here is the imported data frame: "
   ]
  },
  {
   "cell_type": "code",
   "execution_count": 34,
   "id": "83b93b6a-228d-41c5-9f4c-d7d9b5e955d9",
   "metadata": {},
   "outputs": [
    {
     "data": {
      "text/html": [
       "<div>\n",
       "<style scoped>\n",
       "    .dataframe tbody tr th:only-of-type {\n",
       "        vertical-align: middle;\n",
       "    }\n",
       "\n",
       "    .dataframe tbody tr th {\n",
       "        vertical-align: top;\n",
       "    }\n",
       "\n",
       "    .dataframe thead th {\n",
       "        text-align: right;\n",
       "    }\n",
       "</style>\n",
       "<table border=\"1\" class=\"dataframe\">\n",
       "  <thead>\n",
       "    <tr style=\"text-align: right;\">\n",
       "      <th></th>\n",
       "      <th>Artist</th>\n",
       "      <th>Album</th>\n",
       "      <th>Title</th>\n",
       "      <th>Lyrics</th>\n",
       "    </tr>\n",
       "  </thead>\n",
       "  <tbody>\n",
       "    <tr>\n",
       "      <th>0</th>\n",
       "      <td>Taylor Swift</td>\n",
       "      <td>Taylor Swift</td>\n",
       "      <td>Tim McGraw</td>\n",
       "      <td>He said the way my blue eyes shinx\\nPut those ...</td>\n",
       "    </tr>\n",
       "    <tr>\n",
       "      <th>1</th>\n",
       "      <td>Taylor Swift</td>\n",
       "      <td>Taylor Swift</td>\n",
       "      <td>Picture to Burn</td>\n",
       "      <td>State the obvious, I didn't get my perfect fan...</td>\n",
       "    </tr>\n",
       "    <tr>\n",
       "      <th>2</th>\n",
       "      <td>Taylor Swift</td>\n",
       "      <td>Taylor Swift</td>\n",
       "      <td>Teardrops on my Guitar</td>\n",
       "      <td>Drew looks at me,\\nI fake a smile so he won't ...</td>\n",
       "    </tr>\n",
       "    <tr>\n",
       "      <th>3</th>\n",
       "      <td>Taylor Swift</td>\n",
       "      <td>Taylor Swift</td>\n",
       "      <td>A Place in This World</td>\n",
       "      <td>I don't know what I want, so don't ask me\\n'Ca...</td>\n",
       "    </tr>\n",
       "    <tr>\n",
       "      <th>4</th>\n",
       "      <td>Taylor Swift</td>\n",
       "      <td>Taylor Swift</td>\n",
       "      <td>Cold As You</td>\n",
       "      <td>You have a way of coming easily to me\\nAnd whe...</td>\n",
       "    </tr>\n",
       "    <tr>\n",
       "      <th>...</th>\n",
       "      <td>...</td>\n",
       "      <td>...</td>\n",
       "      <td>...</td>\n",
       "      <td>...</td>\n",
       "    </tr>\n",
       "    <tr>\n",
       "      <th>127</th>\n",
       "      <td>Taylor Swift</td>\n",
       "      <td>folklore</td>\n",
       "      <td>mad woman</td>\n",
       "      <td>What did you think I'd say to that?\\nDoes a sc...</td>\n",
       "    </tr>\n",
       "    <tr>\n",
       "      <th>128</th>\n",
       "      <td>Taylor Swift</td>\n",
       "      <td>folklore</td>\n",
       "      <td>epiphany</td>\n",
       "      <td>Keep your helmet\\nKeep your life, son\\nJust a ...</td>\n",
       "    </tr>\n",
       "    <tr>\n",
       "      <th>129</th>\n",
       "      <td>Taylor Swift</td>\n",
       "      <td>folklore</td>\n",
       "      <td>betty</td>\n",
       "      <td>Betty, I won't make assumptions about why you ...</td>\n",
       "    </tr>\n",
       "    <tr>\n",
       "      <th>130</th>\n",
       "      <td>Taylor Swift</td>\n",
       "      <td>folklore</td>\n",
       "      <td>peace</td>\n",
       "      <td>Our coming of age has come and gone\\nSuddenly ...</td>\n",
       "    </tr>\n",
       "    <tr>\n",
       "      <th>131</th>\n",
       "      <td>Taylor Swift</td>\n",
       "      <td>folklore</td>\n",
       "      <td>hoax</td>\n",
       "      <td>My only one\\nMy smoking gun\\nMy eclipsed sun\\n...</td>\n",
       "    </tr>\n",
       "  </tbody>\n",
       "</table>\n",
       "<p>132 rows × 4 columns</p>\n",
       "</div>"
      ],
      "text/plain": [
       "           Artist           Album                   Title   \\\n",
       "0    Taylor Swift   Taylor Swift                Tim McGraw   \n",
       "1    Taylor Swift   Taylor Swift           Picture to Burn   \n",
       "2    Taylor Swift   Taylor Swift   Teardrops on my Guitar    \n",
       "3    Taylor Swift   Taylor Swift    A Place in This World    \n",
       "4    Taylor Swift   Taylor Swift              Cold As You    \n",
       "..             ...            ...                      ...   \n",
       "127  Taylor Swift       folklore                 mad woman   \n",
       "128  Taylor Swift       folklore                  epiphany   \n",
       "129  Taylor Swift       folklore                     betty   \n",
       "130  Taylor Swift       folklore                     peace   \n",
       "131  Taylor Swift       folklore                      hoax   \n",
       "\n",
       "                                                Lyrics  \n",
       "0    He said the way my blue eyes shinx\\nPut those ...  \n",
       "1    State the obvious, I didn't get my perfect fan...  \n",
       "2    Drew looks at me,\\nI fake a smile so he won't ...  \n",
       "3    I don't know what I want, so don't ask me\\n'Ca...  \n",
       "4    You have a way of coming easily to me\\nAnd whe...  \n",
       "..                                                 ...  \n",
       "127  What did you think I'd say to that?\\nDoes a sc...  \n",
       "128  Keep your helmet\\nKeep your life, son\\nJust a ...  \n",
       "129  Betty, I won't make assumptions about why you ...  \n",
       "130  Our coming of age has come and gone\\nSuddenly ...  \n",
       "131  My only one\\nMy smoking gun\\nMy eclipsed sun\\n...  \n",
       "\n",
       "[132 rows x 4 columns]"
      ]
     },
     "execution_count": 34,
     "metadata": {},
     "output_type": "execute_result"
    }
   ],
   "source": [
    "df"
   ]
  },
  {
   "cell_type": "markdown",
   "id": "5500908a-8d3a-4ad4-a00f-7abc3a8e9c43",
   "metadata": {},
   "source": [
    "As you can see, it is split up into 4 different columns: Artist, Album, Title, Lyrics. Since I want to be doing a textual analysis of how her lyrics have changed  between her albums, the two columns that are important to my research are the Album column and the Lyrics columns. "
   ]
  },
  {
   "cell_type": "code",
   "execution_count": 35,
   "id": "beef40e3-d54c-4a28-b86d-dd4a1936246f",
   "metadata": {},
   "outputs": [
    {
     "data": {
      "text/plain": [
       "Index(['Artist ', 'Album', 'Title ', 'Lyrics'], dtype='object')"
      ]
     },
     "execution_count": 35,
     "metadata": {},
     "output_type": "execute_result"
    }
   ],
   "source": [
    "df.columns"
   ]
  },
  {
   "cell_type": "markdown",
   "id": "9430ebd2-90ac-4756-9fc3-329ae2f246d7",
   "metadata": {},
   "source": [
    "For my analysis, I want to seperate all the albums and add combine the lyrics from all songs under one album title to make to text analysis procress easier. Therefore, below I turn the lyrics into lists based on the album they correspond to. I do this using a for loop. "
   ]
  },
  {
   "cell_type": "code",
   "execution_count": 36,
   "id": "8d5818dc-3b87-4069-ae67-3659983efffc",
   "metadata": {},
   "outputs": [],
   "source": [
    "taylor_swift = []\n",
    "fearless = []\n",
    "speak_now = []\n",
    "red = []\n",
    "album_1989 = []\n",
    "reputation = []\n",
    "lover = []\n",
    "folklore = []\n",
    "\n",
    "num_rows = len(df)\n",
    "# print(num_rows)\n",
    "\n",
    "for i in range(num_rows):\n",
    "    if df.loc[i,\"Album\"] == \"Taylor Swift \":\n",
    "        taylor_swift.append(df.loc[i,\"Lyrics\"])\n",
    "    elif df.loc[i,\"Album\"] == \"Fearless\":\n",
    "        fearless.append(df.loc[i,\"Lyrics\"])\n",
    "    elif df.loc[i,\"Album\"] == \"Speak Now \": \n",
    "        speak_now.append(df.loc[i,\"Lyrics\"])\n",
    "    elif df.loc[i,\"Album\"] == \"Red\":\n",
    "        red.append(df.loc[i,\"Lyrics\"])\n",
    "    elif df.loc[i,\"Album\"] == \"1989\": \n",
    "        album_1989.append(df.loc[i,\"Lyrics\"])\n",
    "    elif df.loc[i,\"Album\"] == \"reputation\":\n",
    "        reputation.append(df.loc[i,\"Lyrics\"])\n",
    "    elif df.loc[i,\"Album\"] == \"Lover \":\n",
    "        lover.append(df.loc[i,\"Lyrics\"])\n",
    "    elif df.loc[i,\"Album\"] == \"folklore \":\n",
    "        folklore.append(df.loc[i,\"Lyrics\"])"
   ]
  },
  {
   "cell_type": "markdown",
   "id": "0dd161c5-29db-4f91-907b-05c875d40b1c",
   "metadata": {},
   "source": [
    "Now that the lists have been made, the first thing I want to do is look at the most frequently used words throughout each album to see if we can begin indeifying differences. But first I need to clean up my data by tokenizing each list and removing the stopwords. "
   ]
  },
  {
   "cell_type": "code",
   "execution_count": 37,
   "id": "f310e546-10b7-498f-964d-0d665d1268d8",
   "metadata": {},
   "outputs": [
    {
     "name": "stderr",
     "output_type": "stream",
     "text": [
      "[nltk_data] Downloading package stopwords to /home/jovyan/nltk_data...\n",
      "[nltk_data]   Package stopwords is already up-to-date!\n"
     ]
    },
    {
     "data": {
      "text/plain": [
       "True"
      ]
     },
     "execution_count": 37,
     "metadata": {},
     "output_type": "execute_result"
    }
   ],
   "source": [
    "import nltk\n",
    "from nltk.tokenize import word_tokenize, sent_tokenize\n",
    "from nltk.corpus import stopwords\n",
    "from string import punctuation\n",
    "nltk.download('stopwords')"
   ]
  },
  {
   "cell_type": "code",
   "execution_count": 39,
   "id": "8451c727-d3a2-427a-9d9e-4bc90b570ddb",
   "metadata": {
    "collapsed": true,
    "jupyter": {
     "outputs_hidden": true
    },
    "tags": []
   },
   "outputs": [
    {
     "name": "stdout",
     "output_type": "stream",
     "text": [
      "['He', 'said', 'the', 'way', 'my', 'blue', 'eyes', 'shinx', 'Put', 'those', 'Georgia', 'stars', 'to', 'shame', 'that', 'night', 'I', 'said', ':', '``', 'That', \"'s\", 'a', 'lie', '.', \"''\", 'Just', 'a', 'boy', 'in', 'a', 'Chevy', 'truck', 'That', 'had', 'a', 'tendency', 'of', 'gettin', \"'\", 'stuck', 'On', 'back', 'roads', 'at', 'night', 'And', 'I', 'was', 'right', 'there', 'beside', 'him', 'all', 'summer', 'long', 'And', 'then', 'the', 'time', 'we', 'woke', 'up', 'to', 'find', 'that', 'summer', 'had', 'gone', 'But', 'when', 'you', 'think', '``', 'Tim', 'McGraw', \"''\", 'I', 'hope', 'you', 'think', 'my', 'favorite', 'song', 'The', 'one', 'we', 'danced', 'to', 'all', 'night', 'long', 'The', 'moon', 'like', 'a', 'spotlight', 'on', 'the', 'lake', 'When', 'you', 'think', 'happiness', 'I', 'hope', 'you', 'think', '``', 'that', 'little', 'black', 'dress', \"''\", 'Think', 'of', 'my', 'head', 'on', 'your', 'chest', 'And', 'my', 'old', 'faded', 'blue', 'jeans', 'When', 'you', 'think', 'Tim', 'McGraw', 'I', 'hope', 'you', 'think', 'of', 'me', 'September', 'saw', 'a', 'month', 'of', 'tears', 'And', 'thankin', \"'\", 'God', 'that', 'you', 'were', \"n't\", 'here', 'To', 'see', 'me', 'like', 'that', 'But', 'in', 'a', 'box', 'beneath', 'my', 'bed', 'Is', 'a', 'letter', 'that', 'you', 'never', 'read', 'From', 'three', 'summers', 'back', 'It', \"'s\", 'hard', 'not', 'to', 'find', 'it', 'all', 'a', 'little', 'bitter', 'sweet', 'And', 'lookin', \"'\", 'back', 'on', 'all', 'of', 'that', ',', 'it', \"'s\", 'nice', 'to', 'believe', 'But', 'when', 'you', 'think', '``', 'Tim', 'McGraw', \"''\", 'I', 'hope', 'you', 'think', 'my', 'favorite', 'song', 'The', 'one', 'we', 'danced', 'to', 'all', 'night', 'long', 'The', 'moon', 'like', 'a', 'spotlight', 'on', 'the', 'lake', 'When', 'you', 'think', 'happiness', 'I', 'hope', 'you', 'think', '``', 'that', 'little', 'black', 'dress', \"''\", 'Think', 'of', 'my', 'head', 'on', 'your', 'chest', 'And', 'my', 'old', 'faded', 'blue', 'jeans', 'When', 'you', 'think', 'Tim', 'McGraw', 'I', 'hope', 'you', 'think', 'of', 'me', 'And', 'I', \"'m\", 'back', 'for', 'the', 'first', 'time', 'since', 'then', 'I', \"'m\", 'standin', \"'\", 'on', 'your', 'street', 'And', 'there', \"'s\", 'a', 'letter', 'left', 'on', 'your', 'doorstep', 'And', 'the', 'first', 'thing', 'that', 'you', \"'ll\", 'read', 'Is', 'when', 'you', 'think', '``', 'Tim', 'McGraw', \"''\", 'I', 'hope', 'you', 'think', 'my', 'favorite', 'song', 'Someday', 'you', \"'ll\", 'turn', 'your', 'radio', 'on', 'I', 'hope', 'it', 'takes', 'you', 'back', 'to', 'that', 'place', 'When', 'you', 'think', 'happiness', 'I', 'hope', 'you', 'think', '``', 'that', 'little', 'black', 'dress', \"''\", 'Think', 'of', 'my', 'head', 'on', 'your', 'chest', 'And', 'my', 'old', 'faded', 'blue', 'jeans', 'When', 'you', 'think', 'Tim', 'McGraw', 'I', 'hope', 'you', 'think', 'of', 'me', 'Oh', ',', 'think', 'of', 'me', 'Mmm', 'You', 'said', 'the', 'way', 'my', 'blue', 'eyes', 'shined', 'Put', 'those', 'Georgia', 'stars', 'to', 'shame', 'that', 'night', 'I', 'said', ',', '``', 'That', \"'s\", 'a', 'lie', '.', \"''\"]\n",
      "['State', 'the', 'obvious', ',', 'I', 'did', \"n't\", 'get', 'my', 'perfect', 'fantasy', 'I', 'realize', 'you', 'love', 'yourself', 'more', 'than', 'you', 'could', 'ever', 'love', 'me', 'So', 'go', 'and', 'tell', 'your', 'friends', 'that', 'I', \"'m\", 'obsessive', 'and', 'crazy', 'That', \"'s\", 'fine', ',', 'you', 'wo', \"n't\", 'mind', 'if', 'I', 'say', 'By', 'the', 'way', 'I', 'hate', 'that', 'stupid', 'old', 'pickup', 'truck', 'you', 'never', 'let', 'me', 'drive', 'You', \"'re\", 'a', 'redneck', 'heartbreak', 'who', \"'s\", 'really', 'bad', 'at', 'lying', 'So', 'watch', 'me', 'strike', 'a', 'match', 'on', 'all', 'my', 'wasted', 'time', 'As', 'far', 'as', 'I', \"'m\", 'concerned', ',', 'you', \"'re\", 'just', 'another', 'picture', 'to', 'burn', 'There', \"'s\", 'no', 'time', 'for', 'tears', 'I', \"'m\", 'just', 'sitting', 'here', 'planning', 'my', 'revenge', 'There', \"'s\", 'nothing', 'stopping', 'me', 'From', 'going', 'out', 'with', 'all', 'of', 'your', 'best', 'friends', 'And', 'if', 'you', 'come', 'around', 'saying', 'sorry', 'to', 'me', 'My', 'daddy', \"'s\", 'gon', 'na', 'show', 'you', 'how', 'sorry', 'you', \"'ll\", 'be', \"'Cause\", 'I', 'hate', 'that', 'stupid', 'old', 'pickup', 'truck', 'you', 'never', 'let', 'me', 'drive', 'You', \"'re\", 'a', 'redneck', 'heartbreak', 'who', \"'s\", 'really', 'bad', 'at', 'lying', 'So', 'watch', 'me', 'strike', 'a', 'match', 'on', 'all', 'my', 'wasted', 'time', 'As', 'far', 'as', 'I', \"'m\", 'concerned', ',', 'you', \"'re\", 'just', 'another', 'picture', 'to', 'burn', 'And', 'if', 'you', \"'re\", 'missing', 'me', ',', 'you', \"'d\", 'better', 'keep', 'it', 'to', 'yourself', \"'Cause\", 'coming', 'back', 'around', 'here', 'would', 'be', 'bad', 'for', 'your', 'health', \"'Cause\", 'I', 'hate', 'that', 'stupid', 'old', 'pickup', 'truck', 'you', 'never', 'let', 'me', 'drive', 'You', \"'re\", 'a', 'redneck', 'heartbreak', 'who', \"'s\", 'really', 'bad', 'at', 'lying', 'So', 'watch', 'me', 'strike', 'a', 'match', 'on', 'all', 'my', 'wasted', 'time', 'In', 'case', 'you', 'have', \"n't\", 'heard', 'I', 'really', ',', 'really', 'hate', 'that', 'Stupid', 'old', 'pickup', 'truck', 'you', 'never', 'let', 'me', 'drive', 'You', \"'re\", 'a', 'redneck', 'heartbreak', ',', 'who', \"'s\", 'really', 'bad', 'at', 'lying', 'So', 'watch', 'me', 'strike', 'a', 'match', 'on', 'all', 'my', 'wasted', 'time', 'As', 'far', 'as', 'I', \"'m\", 'concerned', ',', 'you', \"'re\", 'just', 'another', 'picture', 'to', 'burn', 'Burn', ',', 'burn', ',', 'burn', ',', 'baby', ',', 'burn', 'You', \"'re\", 'just', 'another', 'picture', 'to', 'burn', 'Baby', ',', 'burn']\n",
      "['Drew', 'looks', 'at', 'me', ',', 'I', 'fake', 'a', 'smile', 'so', 'he', 'wo', \"n't\", 'see', ',', 'What', 'I', 'want', ',', 'what', 'I', 'need', ',', 'And', 'everything', 'that', 'we', 'should', 'be', ',', 'I', \"'ll\", 'bet', 'she', \"'s\", 'beautiful', ',', 'That', 'girl', 'he', 'talks', 'about', ',', 'And', 'she', \"'s\", 'got', 'everything', 'that', 'I', \"'ve\", 'had', 'to', 'live', 'without', ',', 'Drew', 'talks', 'to', 'me', ',', 'AndI', 'laugh', \"'cause\", 'it', \"'s\", 'just', 'so', 'funny', ',', 'That', 'I', 'ca', \"n't\", 'even', 'see', 'Anyone', 'when', 'he', \"'s\", 'with', 'me', ',', 'He', 'says', 'he', \"'s\", 'so', 'in', 'love', ',', 'He', \"'s\", 'finally', 'got', 'it', 'right', ',', 'I', 'wonder', 'if', 'he', 'knows', 'he', \"'s\", 'all', 'I', 'think', 'about', 'at', 'night', ',', 'He', \"'s\", 'the', 'reason', 'for', 'the', 'teardrops', 'on', 'my', 'guitar', ',', 'The', 'only', 'thing', 'that', 'keeps', 'me', 'wishing', 'on', 'a', 'wishing', 'star', ',', 'He', \"'s\", 'the', 'song', 'in', 'the', 'car', 'I', 'keep', 'singing', ',', 'do', \"n't\", 'know', 'why', 'I', 'do', 'Drew', 'walks', 'by', 'me', ',', 'Can', 'he', 'tell', 'that', 'I', 'ca', \"n't\", 'breathe', '?', 'And', 'there', 'he', 'goes', 'so', 'perfectly', ',', 'The', 'kind', 'of', 'flawless', 'I', 'wish', 'I', 'could', 'be', ',', 'She', 'better', 'hold', 'him', 'tight', ',', 'Give', 'him', 'all', 'her', 'love', ',', 'Look', 'in', 'those', 'beautiful', 'eyes', ',', 'And', 'know', 'she', \"'s\", 'lucky', \"'cause\", ',', 'He', \"'s\", 'the', 'reason', 'for', 'the', 'teardrops', 'on', 'my', 'guitar', ',', 'The', 'only', 'thing', 'that', 'keeps', 'me', 'wishing', 'on', 'a', 'wishing', 'star', ',', 'He', \"'s\", 'the', 'song', 'in', 'the', 'car', 'I', 'keep', 'singing', ',', 'do', \"n't\", 'know', 'why', 'I', 'do', 'So', 'I', \"'ll\", 'drive', 'home', 'alone', ',', 'As', 'I', 'turn', 'out', 'the', 'light', ',', 'I', \"'ll\", 'put', 'his', 'picture', 'down', ',', 'And', 'maybe', 'get', 'some', 'sleep', 'tonight', ',', 'He', \"'s\", 'the', 'reason', 'for', 'the', 'teardrops', 'on', 'my', 'guitar', ',', 'The', 'only', 'one', 'who', \"'s\", 'got', 'enough', 'of', 'me', 'to', 'break', 'my', 'heart', ',', 'He', \"'s\", 'the', 'song', 'in', 'the', 'car', 'I', 'keep', 'singing', ',', 'do', \"n't\", 'know', 'why', 'I', 'do', 'He', \"'s\", 'the', 'time', 'taken', 'up', ',', 'But', 'there', \"'s\", 'never', 'enough', ',', 'And', 'he', \"'s\", 'all', 'the', 'I', 'need', 'to', 'fall', 'into', ',', 'Drew', 'looks', 'at', 'me', ',', 'I', 'fake', 'a', 'smile', 'so', 'he', 'wo', \"n't\", 'see', '.']\n",
      "['I', 'do', \"n't\", 'know', 'what', 'I', 'want', ',', 'so', 'do', \"n't\", 'ask', 'me', \"'Cause\", 'I', \"'m\", 'still', 'trying', 'to', 'figure', 'it', 'out', 'Do', \"n't\", 'know', 'what', \"'s\", 'down', 'this', 'road', 'I', \"'m\", 'just', 'walking', 'Trying', 'to', 'see', 'through', 'the', 'rain', 'coming', 'down', 'Even', 'though', 'I', \"'m\", 'not', 'the', 'only', 'one', ',', 'who', 'feels', 'The', 'way', 'I', 'do', 'I', \"'m\", 'alone', ',', 'on', 'my', 'own', 'And', 'that', \"'s\", 'all', 'I', 'know', ',', 'I', \"'ll\", 'be', 'strong', ',', 'I', \"'ll\", 'be', 'wrong', 'Oh', ',', 'but', 'life', 'goes', 'on', 'Oh', ',', 'I', \"'m\", 'just', 'a', 'girl', 'Trying', 'to', 'find', 'a', 'place', 'in', 'this', 'world', 'Got', 'the', 'radio', 'on', ',', 'my', 'old', 'blue', 'jeans', 'And', 'I', \"'m\", 'wearing', 'my', 'heart', 'on', 'my', 'sleeve', 'Feeling', 'lucky', 'today', ',', 'got', 'the', 'sunshine', 'Could', 'you', 'tell', 'me', 'what', 'more', 'do', 'I', 'need', '?', 'And', 'tomorrow', \"'s\", 'just', 'a', 'mystery', ',', 'oh', 'yeah', 'But', 'that', \"'s\", 'okay', 'I', \"'m\", 'alone', ',', 'on', 'my', 'own', 'And', 'that', \"'s\", 'all', 'I', 'know', ',', 'I', \"'ll\", 'be', 'strong', ',', 'I', \"'ll\", 'be', 'wrong', 'Oh', ',', 'but', 'life', 'goes', 'on', 'Oh', ',', 'I', \"'m\", 'just', 'a', 'girl', 'Trying', 'to', 'find', 'a', 'place', 'in', 'this', 'world', 'Maybe', 'I', \"'m\", 'just', 'a', 'girl', 'on', 'a', 'mission', 'But', 'I', \"'m\", 'ready', 'to', 'fly', 'I', \"'m\", 'alone', ',', 'on', 'my', 'own', 'And', 'that', \"'s\", 'all', 'I', 'know', 'Oh', ',', 'I', \"'ll\", 'be', 'strong', ',', 'I', \"'ll\", 'be', 'wrong', 'Oh', ',', 'but', 'life', 'goes', 'on', 'Oh', ',', 'I', \"'m\", 'alone', ',', 'on', 'my', 'own', 'And', 'that', \"'s\", 'all', 'I', 'know', 'Oh', ',', 'I', \"'m\", 'just', 'a', 'girl', 'Trying', 'to', 'find', 'a', 'place', 'in', 'this', 'world', 'Oh', ',', 'I', \"'m\", 'just', 'a', 'girl', 'Oh', ',', 'I', \"'m\", 'just', 'a', 'girl', ',', 'oh', ',', 'oh', 'Oh', ',', 'I', \"'m\", 'just', 'a', 'girl']\n",
      "['You', 'have', 'a', 'way', 'of', 'coming', 'easily', 'to', 'me', 'And', 'when', 'you', 'take', ',', 'you', 'take', 'the', 'very', 'best', 'of', 'me', 'So', 'I', 'start', 'a', 'fight', \"'cause\", 'I', 'need', 'to', 'feel', \"somethin'\", 'And', 'you', 'do', 'what', 'you', 'want', \"'cause\", 'I', \"'m\", 'not', 'what', 'you', 'wanted', 'Oh', ',', 'what', 'a', 'shame', 'What', 'a', 'rainy', 'ending', 'given', 'to', 'a', 'perfect', 'day', 'Just', 'walk', 'away', 'Ai', \"n't\", 'no', 'use', 'defending', 'words', 'that', 'you', 'will', 'never', 'say', 'And', 'now', 'that', 'I', \"'m\", 'sittin', \"'\", 'here', 'thinkin', \"'\", 'it', 'through', 'I', \"'ve\", 'never', 'been', 'anywhere', 'cold', 'as', 'you', 'You', 'put', 'up', 'the', 'walls', 'and', 'paint', 'them', 'all', 'a', 'shade', 'of', 'gray', 'And', 'I', 'stood', 'there', 'loving', 'you', ',', 'and', 'wished', 'them', 'all', 'away', 'And', 'you', 'come', 'away', 'with', 'a', 'great', 'little', 'story', 'Of', 'a', 'mess', 'of', 'a', 'dreamer', 'with', 'the', 'nerve', 'to', 'adore', 'you', 'Oh', ',', 'what', 'a', 'shame', 'What', 'a', 'rainy', 'ending', 'given', 'to', 'a', 'perfect', 'day', 'Just', 'walk', 'away', 'Ai', \"n't\", 'no', 'use', 'defending', 'words', 'that', 'you', 'will', 'never', 'say', 'And', 'now', 'that', 'I', \"'m\", 'sittin', \"'\", 'here', 'thinkin', \"'\", 'it', 'through', 'I', \"'ve\", 'never', 'been', 'anywhere', 'cold', 'as', 'you', 'You', 'never', 'did', 'give', 'a', 'damn', 'thing', ',', 'honey', 'But', 'I', 'cried', ',', 'cried', 'for', 'you', 'And', 'I', 'know', 'you', 'would', \"n't\", 'have', 'told', 'nobody', 'if', 'I', 'died', ',', 'died', 'for', 'you', 'Died', 'for', 'you', 'Oh', ',', 'what', 'a', 'shame', 'What', 'a', 'rainy', 'ending', 'given', 'to', 'a', 'perfect', 'day', 'Oh', ',', 'every', 'smile', 'you', 'fake', 'is', 'so', 'condescending', 'Countin', \"'\", 'all', 'the', 'scars', 'you', \"'ve\", 'made', 'Now', 'that', 'I', \"'m\", 'sittin', \"'\", 'here', 'thinkin', \"'\", 'it', 'through', 'I', \"'ve\", 'never', 'been', 'anywhere', 'cold', 'as', 'you']\n",
      "['I', 'did', \"n't\", 'know', 'what', 'I', 'would', 'find', 'When', 'I', 'went', 'lookin', \"'\", 'for', 'a', 'reason', 'I', 'know', 'I', 'did', \"n't\", 'read', 'between', 'the', 'lines', 'And', ',', 'baby', ',', 'I', \"'ve\", 'got', 'nowhere', 'to', 'go', 'I', 'tried', 'to', 'take', 'the', 'road', 'less', 'traveled', 'by', 'But', 'nothin', \"'\", 'seems', 'to', 'work', 'the', 'first', 'few', 'times', 'Am', 'I', 'right', '?', 'So', 'how', 'can', 'I', 'ever', 'try', 'to', 'be', 'better', '?', 'Nobody', 'ever', 'lets', 'me', 'in', 'And', 'I', 'can', 'still', 'see', 'you', ';', 'this', 'ai', \"n't\", 'the', 'best', 'view', 'On', 'the', 'outside', ',', 'lookin', \"'\", 'in', 'I', \"'ve\", 'been', 'a', 'lot', 'of', 'lonely', 'places', 'I', \"'ve\", 'never', 'been', 'on', 'the', 'outside', 'You', 'saw', 'me', 'there', ',', 'but', 'never', 'knew', 'That', 'I', 'would', 'give', 'it', 'all', 'up', 'to', 'be', 'A', 'part', 'of', 'this', ',', 'a', 'part', 'of', 'you', 'And', 'now', 'it', \"'s\", 'all', 'too', 'late', ',', 'so', 'you', 'see', 'You', 'could', 'have', 'helped', 'if', 'you', 'had', 'wanted', 'to', 'But', 'no', 'one', 'notices', 'until', 'it', \"'s\", 'too', 'late', 'to', 'do', 'anything', 'How', 'could', 'I', 'ever', 'try', 'to', 'be', 'better', '?', 'Nobody', 'ever', 'lets', 'me', 'in', 'And', 'I', 'can', 'still', 'see', 'you', ';', 'this', 'ai', \"n't\", 'the', 'best', 'view', 'On', 'the', 'outside', ',', 'lookin', \"'\", 'in', 'I', \"'ve\", 'been', 'a', 'lot', 'of', 'lonely', 'places', 'I', \"'ve\", 'never', 'been', 'on', 'the', 'outside', 'Oh', ',', 'yeah', 'How', 'can', 'I', 'ever', 'try', 'to', 'be', 'better', '?', 'Nobody', 'ever', 'lets', 'me', 'in', 'And', 'I', 'can', 'still', 'see', 'you', ';', 'this', 'ai', \"n't\", 'the', 'best', 'view', 'On', 'the', 'outside', ',', 'lookin', \"'\", 'in', 'I', \"'ve\", 'been', 'a', 'lot', 'of', 'lonely', 'places', 'I', \"'ve\", 'never', 'been', 'on', 'the', 'outside', 'Oh', ',', 'oh', 'Oh', ',', 'oh', ',', 'Oh', ',', 'oh', 'Oh', ',', 'oh', 'Oh', ',', 'oh']\n",
      "['Seems', 'the', 'only', 'one', 'who', 'does', \"n't\", 'see', 'your', 'beauty', 'Is', 'the', 'face', 'in', 'the', 'mirror', 'looking', 'back', 'at', 'you', 'You', 'walk', 'around', 'here', 'thinking', 'you', \"'re\", 'not', 'pretty', 'But', 'that', \"'s\", 'not', 'true', \"'cause\", 'I', 'know', 'you', 'Hold', 'on', ',', 'baby', ';', 'you', \"'re\", 'losing', 'it', 'The', 'water', \"'s\", 'high', ',', 'you', \"'re\", 'jumping', 'into', 'it', 'And', 'letting', 'go', ',', 'and', 'no', 'one', 'knows', 'That', 'you', 'cry', ';', 'but', 'you', 'do', \"n't\", 'tell', 'anyone', 'That', 'you', 'might', 'not', 'be', 'the', 'golden', 'one', 'And', 'you', \"'re\", 'tied', 'together', 'with', 'a', 'smile', 'But', 'you', \"'re\", 'coming', 'undone', 'I', 'guess', 'it', \"'s\", 'true', 'that', 'love', 'was', 'all', 'you', 'wanted', \"'Cause\", 'you', \"'re\", 'givin', \"'\", 'it', 'away', 'like', 'it', \"'s\", 'extra', 'change', 'Hoping', 'it', 'will', 'end', 'up', 'in', 'his', 'pocket', 'But', 'he', 'leaves', 'you', 'out', 'like', 'a', 'penny', 'in', 'the', 'rain', 'Oh', ',', \"'cause\", 'it', \"'s\", 'not', 'his', 'price', 'to', 'pay', 'It', \"'s\", 'not', 'his', 'price', 'to', 'pay', 'Hold', 'on', ',', 'baby', ';', 'you', \"'re\", 'losing', 'it', 'The', 'water', \"'s\", 'high', ',', 'you', \"'re\", 'jumping', 'into', 'it', 'And', 'letting', 'go', ',', 'and', 'no', 'one', 'knows', 'That', 'you', 'cry', ';', 'but', 'you', 'do', \"n't\", 'tell', 'anyone', 'That', 'you', 'might', 'not', 'be', 'the', 'golden', 'one', 'And', 'you', \"'re\", 'tied', 'together', 'with', 'a', 'smile', 'But', 'you', \"'re\", 'coming', 'undone', 'Hold', 'on', ',', 'baby', ';', 'you', \"'re\", 'losing', 'it', 'The', 'water', \"'s\", 'high', ',', 'you', \"'re\", 'jumping', 'into', 'it', 'And', 'letting', 'go', ',', 'and', 'no', 'one', 'knows', 'That', 'you', 'cry', ';', 'but', 'you', 'do', \"n't\", 'tell', 'anyone', 'That', 'you', 'might', 'not', 'be', 'the', 'golden', 'one', 'And', 'you', \"'re\", 'tied', 'together', 'with', 'a', 'smile', 'But', 'you', \"'re\", 'coming', 'undone', 'You', \"'re\", 'tied', 'together', 'with', 'a', 'smile', 'But', 'you', \"'re\", 'coming', 'undone', ',', 'oh', 'Goodbye', ',', 'baby', 'With', 'a', 'smile', ',', 'baby', ',', 'baby']\n",
      "['Cory', \"'s\", 'eyes', 'are', 'like', 'a', 'jungle', 'He', 'smiles', ';', 'it', \"'s\", 'like', 'the', 'radio', 'He', 'whispers', 'songs', 'into', 'my', 'window', 'In', 'words', 'that', 'nobody', 'knows', 'There', \"'s\", 'pretty', 'girls', 'on', 'every', 'corner', 'They', 'watch', 'him', 'as', 'he', \"'s\", 'walking', 'home', 'Saying', ',', 'does', 'he', 'know', 'Will', 'you', 'ever', 'know', '?', 'You', \"'re\", 'beautiful', 'Every', 'little', 'piece', ',', 'love', ';', 'do', \"n't\", 'you', 'know', '?', 'You', \"'re\", 'really', 'gon', 'na', 'be', 'someone', 'Ask', 'anyone', 'And', 'when', 'you', 'find', 'everything', 'you', \"'ve\", 'looked', 'for', 'I', 'hope', 'your', 'love', 'leads', 'you', 'back', 'to', 'my', 'door', 'Oh', ',', 'but', 'if', 'it', 'do', \"n't\", ',', 'stay', 'beautiful', 'Cory', 'finds', 'another', 'way', 'to', 'be', 'The', 'highlight', 'of', 'my', 'day', 'I', \"'m\", 'taking', 'pictures', 'in', 'my', 'mind', 'So', 'I', 'can', 'save', 'them', 'for', 'a', 'rainy', 'day', 'It', \"'s\", 'hard', 'to', 'make', 'a', 'conversation', 'When', 'he', \"'s\", 'taking', 'my', 'breath', 'away', 'I', 'should', 'say', '``', 'hey', ',', 'by', 'the', 'way', 'You', \"'re\", 'beautiful', 'Every', 'little', 'piece', ',', 'love', ';', 'do', \"n't\", 'you', 'know', '?', 'You', \"'re\", 'really', 'gon', 'na', 'be', 'someone', 'Ask', 'anyone', 'And', 'when', 'you', 'find', 'everything', 'you', \"'ve\", 'looked', 'for', 'I', 'hope', 'your', 'love', 'leads', 'you', 'back', 'to', 'my', 'door', 'Oh', ',', 'but', 'if', 'it', 'do', \"n't\", ',', 'stay', 'beautiful', 'If', 'you', 'and', 'I', 'are', 'a', 'story', 'That', 'never', 'gets', 'told', 'If', 'what', 'you', 'are', 'is', 'a', 'daydream', 'I', \"'ll\", 'never', 'get', 'to', 'hold', ',', 'at', 'least', 'you', \"'ll\", 'know', 'You', \"'re\", 'beautiful', 'Every', 'little', 'piece', ',', 'love', ';', 'do', \"n't\", 'you', 'know', '?', 'You', \"'re\", 'really', 'gon', 'na', 'be', 'someone', 'Ask', 'anyone', 'And', 'when', 'you', 'find', 'everything', 'you', \"'ve\", 'looked', 'for', 'I', 'hope', 'your', 'love', 'leads', 'you', 'back', 'to', 'my', 'front', 'door', 'Oh', ',', 'but', 'if', 'it', \"don't\", 'Will', 'you', 'stay', 'beautiful', ',', 'beautiful', ',', 'beautiful', 'Beautiful', ',', 'beautiful', ',', 'beautiful', '?', 'Oh', ',', 'oh', ',', 'oh', 'Oh', ',', 'oh', ',', 'oh', 'Oh', ',', 'but', 'if', 'it', \"don't\", 'Stay', 'beautiful', 'Stay', 'beautiful', 'Na', ',', 'na', ',', 'na', ',', 'na', ',', 'na']\n",
      "['It', \"'s\", 'strange', 'to', 'think', 'the', 'songs', 'we', 'used', 'to', 'sing', 'The', 'smiles', ',', 'the', 'flowers', ',', 'everything', ':', 'is', 'gone', 'Yesterday', 'I', 'found', 'out', 'about', 'you', 'Even', 'now', 'just', 'looking', 'at', 'you', ':', 'feels', 'wrong', 'You', 'say', 'that', 'you', \"'d\", 'take', 'it', 'all', 'back', ',', 'given', 'one', 'chance', 'It', 'was', 'a', 'moment', 'of', 'weakness', 'and', 'you', 'said', 'yes', 'You', 'should', \"'ve\", 'said', 'no', ',', 'you', 'should', \"'ve\", 'gone', 'home', 'You', 'should', \"'ve\", 'thought', 'twice', 'before', 'you', 'let', 'it', 'all', 'go', 'You', 'should', \"'ve\", 'know', 'that', 'word', ',', 'bout', 'what', 'you', 'did', 'with', 'her', 'Would', 'get', 'back', 'to', 'me', 'And', 'I', 'should', \"'ve\", 'been', 'there', ',', 'in', 'the', 'back', 'of', 'your', 'mind', 'I', 'should', \"n't\", 'be', 'asking', 'myself', 'why', 'You', 'should', \"n't\", 'be', 'begging', 'for', 'forgiveness', 'at', 'my', 'feet', 'You', 'should', \"'ve\", 'said', 'no', ',', 'baby', 'and', 'you', 'might', 'still', 'have', 'me', 'You', 'can', 'see', 'that', 'I', \"'ve\", 'been', 'crying', 'And', 'baby', 'you', 'know', 'all', 'the', 'right', 'things', ':', 'to', 'say', 'But', 'do', 'you', 'honestly', 'expect', 'me', 'to', 'believe', 'We', 'could', 'ever', 'be', 'the', 'same', 'You', 'say', 'that', 'the', 'past', 'is', 'the', 'past', ',', 'you', 'need', 'one', 'chance', 'It', 'was', 'a', 'moment', 'of', 'weakness', 'and', 'you', 'said', 'yes', 'You', 'should', \"'ve\", 'said', 'no', ',', 'you', 'should', \"'ve\", 'gone', 'home', 'You', 'should', \"'ve\", 'thought', 'twice', 'before', 'you', 'let', 'it', 'all', 'go', 'You', 'should', \"'ve\", 'know', 'that', 'word', ',', 'bout', 'what', 'you', 'did', 'with', 'her', 'Would', 'get', 'back', 'to', 'me', 'And', 'I', 'should', \"'ve\", 'been', 'there', ',', 'in', 'the', 'back', 'of', 'your', 'mind', 'I', 'should', \"n't\", 'be', 'asking', 'myself', 'why', 'You', 'should', \"n't\", 'be', 'begging', 'for', 'forgiveness', 'at', 'my', 'feet', 'You', 'should', \"'ve\", 'said', 'no', ',', 'baby', 'and', 'you', 'might', 'still', 'have', 'me', 'I', 'ca', \"n't\", 'resist', ',', 'before', 'you', 'go', ',', 'tell', 'me', 'this', 'Was', 'it', 'worth', 'it', 'Was', 'she', 'worth', 'this', 'No', ',', 'no', 'no', 'no', 'You', 'should', \"'ve\", 'said', 'no', ',', 'you', 'should', \"'ve\", 'gone', 'home', 'You', 'should', \"'ve\", 'thought', 'twice', 'before', 'you', 'let', 'it', 'all', 'go', 'You', 'should', \"'ve\", 'know', 'that', 'word', ',', 'bout', 'what', 'you', 'did', 'with', 'her', 'Would', 'get', 'back', 'to', 'me', 'And', 'I', 'should', \"'ve\", 'been', 'there', ',', 'in', 'the', 'back', 'of', 'your', 'mind', 'I', 'should', \"n't\", 'be', 'asking', 'myself', 'why', 'You', 'should', \"n't\", 'be', 'begging', 'for', 'forgiveness', 'at', 'my', 'feet', 'You', 'should', \"'ve\", 'said', 'no', ',', 'baby', 'and', 'you', 'might', 'still', 'have', 'me']\n",
      "['She', 'said', \"''\", 'I', 'was', 'seven', ',', 'and', 'you', 'were', 'nine', 'I', 'looked', 'at', 'you', 'like', 'the', 'stars', 'that', 'shined', 'In', 'the', 'sky', ',', 'the', 'pretty', 'lights', '.', \"''\", 'And', 'our', 'daddies', 'used', 'to', 'joke', 'about', 'the', 'two', 'of', 'us', 'Growing', 'up', 'and', 'fallin', \"'\", 'in', 'love', 'And', 'our', 'mamas', 'smiled', ',', 'and', 'rolled', 'their', 'eyes', 'And', 'said', ',', '``', 'Oh', ',', 'my', ',', 'my', ',', 'my', \"''\", 'Take', 'me', 'back', 'to', 'the', 'house', 'in', 'the', 'backyard', 'tree', 'Said', 'you', \"'d\", 'beat', 'me', 'up', ';', 'you', 'were', 'bigger', 'than', 'me', 'You', 'never', 'did', ',', 'you', 'never', 'did', 'Take', 'me', 'back', 'when', 'our', 'world', 'was', 'one', 'block', 'wide', 'I', 'dared', 'you', 'to', 'kiss', 'me', ',', 'and', 'ran', 'when', 'you', 'tried', 'Just', 'two', 'kids', ',', 'you', 'and', 'I', 'Oh', ',', 'my', ',', 'my', ',', 'my', ',', 'my', 'Well', ',', 'I', 'was', 'sixteen', 'when', 'suddenly', 'I', 'was', \"n't\", 'that', 'little', 'girl', 'you', 'used', 'to', 'see', 'But', 'your', 'eyes', 'still', 'shined', ',', 'like', 'pretty', 'lights', 'And', 'our', 'daddies', 'used', 'to', 'joke', 'about', 'the', 'two', 'of', 'us', 'They', 'never', 'believed', 'we', \"'d\", 'really', 'fall', 'in', 'love', 'And', 'our', 'mamas', 'smiled', ',', 'and', 'rolled', 'their', 'eyes', 'And', 'said', ',', '``', 'Oh', ',', 'my', ',', 'my', ',', 'my', \"''\", 'Take', 'me', 'back', 'to', 'the', 'creek', 'beds', 'we', 'turned', 'up', 'Two', 'AM', ',', 'ridin', \"'\", 'in', 'your', 'truck', 'And', 'all', 'I', 'need', 'is', 'you', 'next', 'to', 'me', 'Take', 'me', 'back', 'to', 'the', 'time', 'we', 'had', 'our', 'very', 'first', 'fight', 'Slammin', \"'\", 'of', 'doors', \"'stead\", 'of', 'kissin', \"'\", 'goodnight', 'You', 'stayed', 'outside', 'till', 'the', 'morning', 'light', 'Oh', ',', 'my', ',', 'my', ',', 'my', ',', 'my', 'A', 'few', 'years', 'had', 'gone', 'and', 'come', 'around', 'We', 'were', 'sittin', \"'\", 'at', 'our', 'favorite', 'spot', 'in', 'town', 'And', 'you', 'looked', 'at', 'me', ',', 'got', 'down', 'on', 'one', 'knee', 'Take', 'me', 'back', 'to', 'the', 'time', 'when', 'we', 'walked', 'down', 'the', 'aisle', 'Our', 'whole', 'town', 'came', ',', 'and', 'our', 'mamas', 'cried', 'You', 'said', ',', '``', 'I', 'do', ',', '``', 'and', 'I', 'did', 'too', 'Take', 'me', 'home', 'where', 'we', 'met', 'so', 'many', 'years', 'before', 'We', \"'ll\", 'rock', 'our', 'babies', 'on', 'the', 'very', 'front', 'porch', 'After', 'all', 'this', 'time', ',', 'you', 'and', 'I', 'And', 'I', \"'ll\", 'be', 'eighty-seven', ',', 'you', \"'ll\", 'be', 'eighty-nine', 'I', \"'ll\", 'still', 'look', 'at', 'you', 'like', 'the', 'stars', 'that', 'shine', 'in', 'the', 'sky', 'Oh', ',', 'my', ',', 'my', ',', 'my']\n",
      "['I', 'was', 'riding', 'shotgun', 'with', 'my', 'hair', 'undone', 'in', 'the', 'front', 'seat', 'of', 'his', 'car', ',', 'He', \"'s\", 'got', 'a', 'one-hand', 'feel', 'on', 'the', 'steering', 'wheel', ',', 'The', 'other', 'on', 'my', 'heart', ',', 'I', 'look', 'around', ',', 'turn', 'the', 'radio', 'down', ',', 'he', 'says', ',', '``', 'baby', 'is', 'something', 'wrong', '?', \"''\", 'I', 'say', '``', 'nothing', ',', 'I', 'was', 'just', 'thinking', 'how', 'we', 'do', \"n't\", 'have', 'a', 'song', ',', '``', 'And', 'he', 'says', ',', 'Our', 'song', 'is', 'a', 'slamming', 'screen', 'door', ',', 'Sneaking', 'out', 'late', 'tapping', 'on', 'your', 'window', ',', 'When', 'we', \"'re\", 'on', 'the', 'phone', 'and', 'you', 'talk', 'real', 'slow', ',', \"'Cause\", 'it', \"'s\", 'late', 'and', 'your', 'mama', 'do', \"n't\", 'know', ',', 'Our', 'song', 'is', 'the', 'way', 'you', 'laugh', ',', 'The', 'first', 'date', 'man', 'I', 'did', \"n't\", 'kiss', 'her', 'when', 'I', 'should', 'have', ',', 'And', 'when', 'I', 'got', 'home', ',', 'before', 'I', 'said', 'amen', ',', 'Asking', 'God', 'if', 'He', 'could', 'play', 'it', 'again', '.', 'I', 'was', 'walking', 'up', 'the', 'front', 'porch', 'steps', 'after', 'everything', 'that', 'day', ',', 'Had', 'gone', 'all', 'wrong', ',', 'had', 'been', 'trampled', 'on', 'and', 'lost', 'and', 'thrown', 'away', ',', 'Got', 'to', 'the', 'hallway', 'well', 'on', 'my', 'way', 'to', 'my', 'lovin', \"'\", 'bed', ',', 'I', 'almost', 'did', \"n't\", 'notice', 'all', 'the', 'roses', ',', 'And', 'the', 'note', 'that', 'said', ',', 'Our', 'song', 'is', 'a', 'slamming', 'screen', 'door', ',', 'Sneaking', 'out', 'late', 'tapping', 'on', 'your', 'window', ',', 'When', 'we', \"'re\", 'on', 'the', 'phone', 'and', 'you', 'talk', 'real', 'slow', ',', \"'Cause\", 'it', \"'s\", 'late', 'and', 'your', 'mama', 'do', \"n't\", 'know', ',', 'Our', 'song', 'is', 'the', 'way', 'you', 'laugh', ',', 'The', 'first', 'date', 'man', 'I', 'did', \"n't\", 'kiss', 'her', 'when', 'I', 'should', 'have', ',', 'And', 'when', 'I', 'got', 'home', ',', 'before', 'I', 'said', 'amen', ',', 'Asking', 'God', 'if', 'He', 'could', 'play', 'it', 'again', '.', 'I', \"'ve\", 'heard', 'every', 'album', ',', 'listened', 'to', 'the', 'radio', ',', 'Waiting', 'for', 'something', 'to', 'come', 'along', ',', 'That', 'was', 'as', 'good', 'as', 'our', 'song', ',', \"'Cause\", 'our', 'song', 'is', 'a', 'slamming', 'screen', 'door', ',', 'Sneaking', 'out', 'late', 'tapping', 'on', 'your', 'window', ',', 'When', 'we', \"'re\", 'on', 'the', 'phone', ',', 'and', 'he', 'talks', 'real', 'slow', ',', \"'Cause\", 'it', \"'s\", 'late', 'and', 'his', 'mama', 'do', \"n't\", 'know', ',', 'Our', 'song', 'is', 'the', 'way', 'he', 'laughs', ',', 'The', 'first', 'date', 'man', 'I', 'did', \"n't\", 'kiss', 'him', 'when', 'I', 'should', 'have', ',', 'And', 'when', 'I', 'got', 'home', ',', 'before', 'I', 'said', 'amen', ',', 'Asking', 'God', 'if', 'He', 'could', 'play', 'it', 'again', '.', 'I', 'was', 'riding', 'shotgun', 'with', 'my', 'hair', 'undone', 'in', 'the', 'front', 'seat', 'of', 'his', 'car', ',', 'I', 'grabbed', 'a', 'pen', 'and', 'an', 'old', 'napkin', 'And', 'I', 'wrote', 'down', 'our', 'song', '.']\n",
      "['Friday', 'night', 'beneath', 'the', 'stars', 'In', 'a', 'field', 'behind', 'your', 'yard', 'You', 'and', 'I', 'are', 'painting', 'pictures', 'in', 'the', 'sky', 'Sometimes', 'we', 'do', \"n't\", 'say', 'a', 'thing', 'Just', 'listen', 'to', 'the', 'crickets', 'sing', 'Everything', 'I', 'need', 'is', 'right', 'here', 'by', 'my', 'side', 'And', 'I', 'know', 'everything', 'about', 'you', 'I', 'do', \"n't\", 'wan', 'na', 'live', 'without', 'you', 'I', \"'m\", 'only', 'up', 'when', 'you', \"'re\", 'not', 'down', 'Do', \"n't\", 'wan', 'na', 'fly', 'if', 'you', \"'re\", 'still', 'on', 'the', 'ground', 'It', \"'s\", 'like', 'no', 'matter', 'what', 'I', 'do', 'Well', ',', 'you', 'drive', 'me', 'crazy', 'half', 'the', 'time', 'The', 'other', 'half', 'I', \"'m\", 'only', 'trying', 'To', 'let', 'you', 'know', 'that', 'what', 'I', 'feel', 'is', 'true', 'And', 'I', \"'m\", 'only', 'me', 'when', 'I', \"'m\", 'with', 'you', 'Just', 'a', 'small-town', 'boy', 'and', 'girl', 'Living', 'in', 'the', 'crazy', 'world', 'Trying', 'to', 'figure', 'out', 'what', 'is', 'and', 'is', \"n't\", 'true', 'And', 'I', 'do', \"n't\", 'try', 'to', 'hide', 'my', 'tears', 'My', 'secrets', 'or', 'my', 'deepest', 'fears', 'Through', 'it', 'all', 'nobody', 'gets', 'me', 'like', 'you', 'do', 'And', 'you', 'know', 'everything', 'about', 'me', 'You', 'say', 'that', 'you', 'ca', \"n't\", 'live', 'without', 'me', 'I', \"'m\", 'only', 'up', 'when', 'you', \"'re\", 'not', 'down', 'Do', \"n't\", 'wan', 'na', 'fly', 'if', 'you', \"'re\", 'still', 'on', 'the', 'ground', 'It', \"'s\", 'like', 'no', 'matter', 'what', 'I', 'do', 'Well', ',', 'you', 'drive', 'me', 'crazy', 'half', 'the', 'time', 'The', 'other', 'half', 'I', \"'m\", 'only', 'trying', 'To', 'let', 'you', 'know', 'that', 'what', 'I', 'feel', 'is', 'true', 'And', 'I', \"'m\", 'only', 'me', 'when', 'I', \"'m\", 'with', 'you', 'When', 'I', \"'m\", 'with', 'anybody', 'else', 'It', \"'s\", 'so', 'hard', 'to', 'be', 'myself', 'And', 'only', 'you', 'can', 'tell', 'I', \"'m\", 'only', 'up', 'when', 'you', \"'re\", 'not', 'down', 'Do', \"n't\", 'wan', 'na', 'fly', 'if', 'you', \"'re\", 'still', 'on', 'the', 'ground', 'It', \"'s\", 'like', 'no', 'matter', 'what', 'I', 'do', 'Well', ',', 'you', 'drive', 'me', 'crazy', 'half', 'the', 'time', 'The', 'other', 'half', 'I', \"'m\", 'only', 'trying', 'To', 'let', 'you', 'know', 'that', 'what', 'I', 'feel', 'is', 'true', 'And', 'I', \"'m\", 'only', 'me', 'when', 'I', \"'m\", 'with', 'you']\n",
      "['She', 'ca', \"n't\", 'see', 'the', 'way', 'your', 'eyes', 'Light', 'up', 'when', 'you', 'smile', 'She', \"'ll\", 'never', 'notice', 'how', 'you', 'stop', 'and', 'stare', 'Whenever', 'she', 'walks', 'by', 'And', 'you', 'ca', \"n't\", 'see', 'me', 'wantin', \"'\", 'you', 'the', 'way', 'you', 'want', 'her', 'But', 'you', 'are', 'everything', 'to', 'me', 'And', 'I', 'just', 'wan', 'na', 'show', 'you', 'She', 'do', \"n't\", 'even', 'know', 'you', 'She', \"'s\", 'never', 'gon', 'na', 'love', 'you', 'like', 'I', 'want', 'to', 'And', 'you', 'just', 'see', 'right', 'through', 'me', 'but', 'if', 'you', 'only', 'knew', 'me', 'We', 'could', 'be', 'a', 'beautiful', ',', 'miracle', ',', 'unbelievable', 'Instead', 'of', 'just', 'invisible', 'There', \"'s\", 'a', 'fire', 'inside', 'of', 'you', 'That', 'ca', \"n't\", 'help', 'but', 'shine', 'through', 'She', \"'s\", 'never', 'gon', 'na', 'see', 'the', 'light', 'No', 'matter', 'what', 'you', 'do', 'And', 'all', 'I', 'think', 'about', 'is', 'how', 'to', 'make', 'you', 'think', 'of', 'me', 'And', 'everything', 'that', 'we', 'could', 'be', 'And', 'I', 'just', 'wan', 'na', 'show', 'you', 'She', 'do', \"n't\", 'even', 'know', 'you', 'She', \"'s\", 'never', 'gon', 'na', 'love', 'you', 'like', 'I', 'want', 'to', 'And', 'you', 'just', 'see', 'right', 'through', 'me', 'but', 'if', 'you', 'only', 'knew', 'me', 'We', 'could', 'be', 'a', 'beautiful', ',', 'miracle', ',', 'unbelievable', 'Instead', 'of', 'just', 'invisible', 'Like', 'shadows', 'in', 'a', 'faded', 'light', 'Oh', 'we', \"'re\", 'invisible', 'I', 'just', 'wan', 'na', 'open', 'your', 'eyes', 'And', 'make', 'you', 'realize', 'I', 'just', 'want', 'to', 'show', 'you', ',', 'she', 'do', \"n't\", 'even', 'know', 'you', ',', 'Baby', 'let', 'me', 'love', 'you', ',', 'let', 'me', 'want', 'you', \"''\", '.', 'She', 'ca', \"n't\", 'see', 'the', 'way', 'your', 'eyes', 'Light', 'up', 'when', 'you', 'smile']\n",
      "['Why', 'would', 'you', 'wan', 'na', 'break', 'a', 'perfectly', 'good', 'heart', 'Why', 'would', 'you', 'wan', 'na', 'take', 'our', 'love', 'and', 'tear', 'it', 'all', 'apart', 'now', 'Why', 'would', 'you', 'wan', 'na', 'make', 'the', 'very', 'first', 'scar', 'Why', 'would', 'you', 'wan', 'na', 'break', 'a', 'perfectly', 'good', 'heart', 'Maybe', 'I', 'should', \"'ve\", 'seen', 'the', 'signs', ',', 'should', \"'ve\", 'read', 'the', 'writing', 'on', 'the', 'wall', 'And', 'realized', 'by', 'the', 'distance', 'in', 'your', 'eyes', 'that', 'I', 'would', 'be', 'the', 'one', 'to', 'fall', 'No', 'matter', 'what', 'you', 'say', 'I', 'still', 'ca', \"n't\", 'believe', 'That', 'you', 'would', 'walk', 'away', 'It', 'do', \"n't\", 'make', 'sense', 'to', 'me', 'but', 'Why', 'would', 'you', 'wan', 'na', 'break', 'a', 'perfectly', 'good', 'heart', 'Why', 'would', 'you', 'wan', 'na', 'take', 'our', 'love', 'and', 'tear', 'it', 'all', 'apart', 'now', 'Why', 'would', 'you', 'wan', 'na', 'make', 'the', 'very', 'first', 'scar', 'Why', 'would', 'you', 'wan', 'na', 'break', 'a', 'perfectly', 'good', 'heart', 'It', \"'s\", 'not', 'unbroken', 'anymore', 'How', 'do', 'I', 'get', 'it', 'back', 'the', 'way', 'it', 'was', 'before', 'Why', 'would', 'you', 'wan', 'na', 'break', 'a', 'perfectly', 'good', 'heart', 'Why', 'would', 'you', 'wan', 'na', 'take', 'our', 'love', 'and', 'tear', 'it', 'all', 'apart', 'now', 'Why', 'would', 'you', 'wan', 'na', 'make', 'the', 'very', 'first', 'scar', 'Why', 'would', 'you', 'wan', 'na', 'break', ',', 'would', 'you', 'wan', 'na', 'break', 'a', 'Why', 'would', 'you', 'wan', 'na', 'break', 'a', 'perfectly', 'good', 'heart', 'Why', 'would', 'you', 'wan', 'na', 'take', 'our', 'love', 'and', 'tear', 'it', 'all', 'apart', 'now', 'Why', 'would', 'you', 'wan', 'na', 'make', 'the', 'very', 'first', 'scar', 'Why', 'would', 'you', 'wan', 'na', 'break', 'a', 'perfectly', 'good', 'heart']\n"
     ]
    }
   ],
   "source": [
    "#taylor_swift\n",
    "tokenized_sents = [word_tokenize(i) for i in taylor_swift]\n",
    "for i in tokenized_sents:\n",
    "    print(i)"
   ]
  },
  {
   "cell_type": "code",
   "execution_count": 51,
   "id": "9fe5a09b-f8c3-4881-9988-3072232e9274",
   "metadata": {},
   "outputs": [],
   "source": [
    "myStopWords = list(punctuation) + stopwords.words('english')"
   ]
  },
  {
   "cell_type": "code",
   "execution_count": null,
   "id": "7c036862-4d3e-412f-8555-b3869c60e97b",
   "metadata": {
    "tags": []
   },
   "outputs": [],
   "source": []
  },
  {
   "cell_type": "code",
   "execution_count": null,
   "id": "f03bb998-db98-4ea9-88ea-bd6dad1a0201",
   "metadata": {
    "collapsed": true,
    "jupyter": {
     "outputs_hidden": true
    },
    "tags": []
   },
   "outputs": [],
   "source": []
  },
  {
   "cell_type": "code",
   "execution_count": null,
   "id": "9eec0e7b-6c99-4d8f-881e-3afc8c3b718c",
   "metadata": {
    "collapsed": true,
    "jupyter": {
     "outputs_hidden": true
    },
    "tags": []
   },
   "outputs": [],
   "source": []
  },
  {
   "cell_type": "code",
   "execution_count": null,
   "id": "6e5879d6-f024-4cee-9f52-4cd82a976224",
   "metadata": {
    "tags": []
   },
   "outputs": [],
   "source": []
  },
  {
   "cell_type": "code",
   "execution_count": null,
   "id": "10d62d36-90fd-494b-8f6c-8e0c91b374e8",
   "metadata": {},
   "outputs": [],
   "source": []
  },
  {
   "cell_type": "code",
   "execution_count": null,
   "id": "0effff13-2b1b-421a-9e0c-a5e40a212233",
   "metadata": {},
   "outputs": [],
   "source": []
  }
 ],
 "metadata": {
  "kernelspec": {
   "display_name": "Python 3 (ipykernel)",
   "language": "python",
   "name": "python3"
  },
  "language_info": {
   "codemirror_mode": {
    "name": "ipython",
    "version": 3
   },
   "file_extension": ".py",
   "mimetype": "text/x-python",
   "name": "python",
   "nbconvert_exporter": "python",
   "pygments_lexer": "ipython3",
   "version": "3.9.6"
  }
 },
 "nbformat": 4,
 "nbformat_minor": 5
}
