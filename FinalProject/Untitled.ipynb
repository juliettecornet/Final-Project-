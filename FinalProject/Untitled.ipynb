{
 "cells": [
  {
   "cell_type": "code",
   "execution_count": 1,
   "id": "bc600e82-b0e3-49dc-b2c2-d4a7d3938046",
   "metadata": {},
   "outputs": [],
   "source": [
    "import pandas as pd"
   ]
  },
  {
   "cell_type": "code",
   "execution_count": 2,
   "id": "16338c1b-f47c-4b64-9e21-5bb03507174d",
   "metadata": {},
   "outputs": [],
   "source": [
    "df = pd.read_csv('https://raw.githubusercontent.com/rfordatascience/tidytuesday/master/data/2020/2020-09-29/taylor_swift_lyrics.csv')"
   ]
  },
  {
   "cell_type": "code",
   "execution_count": 9,
   "id": "8068bc84-c0ab-4145-92a7-b8bc196276c7",
   "metadata": {},
   "outputs": [],
   "source": [
    "taylor_swift = []\n",
    "fearless = []\n",
    "speak_now = []\n",
    "red = []\n",
    "album_1989 = []\n",
    "reputation = []\n",
    "lover = []\n",
    "folklore = []\n",
    "\n",
    "num_rows = len(df)\n",
    "# print(num_rows)\n",
    "\n",
    "for i in range(num_rows):\n",
    "    if df.loc[i,\"Album\"] == \"Taylor Swift \":\n",
    "        taylor_swift.append(df.loc[i,\"Lyrics\"])\n",
    "    elif df.loc[i,\"Album\"] == \"Fearless\":\n",
    "        fearless.append(df.loc[i,\"Lyrics\"])\n",
    "    elif df.loc[i,\"Album\"] == \"Speak Now \": \n",
    "        speak_now.append(df.loc[i,\"Lyrics\"])\n",
    "    elif df.loc[i,\"Album\"] == \"Red\":\n",
    "        red.append(df.loc[i,\"Lyrics\"])\n",
    "    elif df.loc[i,\"Album\"] == \"1989\": \n",
    "        album_1989.append(df.loc[i,\"Lyrics\"])\n",
    "    elif df.loc[i,\"Album\"] == \"reputation \":\n",
    "        reputation.append(df.loc[i,\"Lyrics\"])\n",
    "    elif df.loc[i,\"Album\"] == \"Lover \":\n",
    "        lover.append(df.loc[i,\"Lyrics\"])\n",
    "    elif df.loc[i,\"Album\"] == \"folklore \":\n",
    "        folklore.append(df.loc[i,\"Lyrics\"])"
   ]
  },
  {
   "cell_type": "code",
   "execution_count": 8,
   "id": "47b8c39a-d112-4500-a4f4-5a8095cf3b3b",
   "metadata": {},
   "outputs": [
    {
     "data": {
      "text/html": [
       "<div>\n",
       "<style scoped>\n",
       "    .dataframe tbody tr th:only-of-type {\n",
       "        vertical-align: middle;\n",
       "    }\n",
       "\n",
       "    .dataframe tbody tr th {\n",
       "        vertical-align: top;\n",
       "    }\n",
       "\n",
       "    .dataframe thead th {\n",
       "        text-align: right;\n",
       "    }\n",
       "</style>\n",
       "<table border=\"1\" class=\"dataframe\">\n",
       "  <thead>\n",
       "    <tr style=\"text-align: right;\">\n",
       "      <th></th>\n",
       "      <th>Artist</th>\n",
       "      <th>Album</th>\n",
       "      <th>Title</th>\n",
       "      <th>Lyrics</th>\n",
       "    </tr>\n",
       "  </thead>\n",
       "  <tbody>\n",
       "    <tr>\n",
       "      <th>0</th>\n",
       "      <td>Taylor Swift</td>\n",
       "      <td>Taylor Swift</td>\n",
       "      <td>Tim McGraw</td>\n",
       "      <td>He said the way my blue eyes shinx\\nPut those ...</td>\n",
       "    </tr>\n",
       "    <tr>\n",
       "      <th>1</th>\n",
       "      <td>Taylor Swift</td>\n",
       "      <td>Taylor Swift</td>\n",
       "      <td>Picture to Burn</td>\n",
       "      <td>State the obvious, I didn't get my perfect fan...</td>\n",
       "    </tr>\n",
       "    <tr>\n",
       "      <th>2</th>\n",
       "      <td>Taylor Swift</td>\n",
       "      <td>Taylor Swift</td>\n",
       "      <td>Teardrops on my Guitar</td>\n",
       "      <td>Drew looks at me,\\nI fake a smile so he won't ...</td>\n",
       "    </tr>\n",
       "    <tr>\n",
       "      <th>3</th>\n",
       "      <td>Taylor Swift</td>\n",
       "      <td>Taylor Swift</td>\n",
       "      <td>A Place in This World</td>\n",
       "      <td>I don't know what I want, so don't ask me\\n'Ca...</td>\n",
       "    </tr>\n",
       "    <tr>\n",
       "      <th>4</th>\n",
       "      <td>Taylor Swift</td>\n",
       "      <td>Taylor Swift</td>\n",
       "      <td>Cold As You</td>\n",
       "      <td>You have a way of coming easily to me\\nAnd whe...</td>\n",
       "    </tr>\n",
       "    <tr>\n",
       "      <th>...</th>\n",
       "      <td>...</td>\n",
       "      <td>...</td>\n",
       "      <td>...</td>\n",
       "      <td>...</td>\n",
       "    </tr>\n",
       "    <tr>\n",
       "      <th>127</th>\n",
       "      <td>Taylor Swift</td>\n",
       "      <td>folklore</td>\n",
       "      <td>mad woman</td>\n",
       "      <td>What did you think I'd say to that?\\nDoes a sc...</td>\n",
       "    </tr>\n",
       "    <tr>\n",
       "      <th>128</th>\n",
       "      <td>Taylor Swift</td>\n",
       "      <td>folklore</td>\n",
       "      <td>epiphany</td>\n",
       "      <td>Keep your helmet\\nKeep your life, son\\nJust a ...</td>\n",
       "    </tr>\n",
       "    <tr>\n",
       "      <th>129</th>\n",
       "      <td>Taylor Swift</td>\n",
       "      <td>folklore</td>\n",
       "      <td>betty</td>\n",
       "      <td>Betty, I won't make assumptions about why you ...</td>\n",
       "    </tr>\n",
       "    <tr>\n",
       "      <th>130</th>\n",
       "      <td>Taylor Swift</td>\n",
       "      <td>folklore</td>\n",
       "      <td>peace</td>\n",
       "      <td>Our coming of age has come and gone\\nSuddenly ...</td>\n",
       "    </tr>\n",
       "    <tr>\n",
       "      <th>131</th>\n",
       "      <td>Taylor Swift</td>\n",
       "      <td>folklore</td>\n",
       "      <td>hoax</td>\n",
       "      <td>My only one\\nMy smoking gun\\nMy eclipsed sun\\n...</td>\n",
       "    </tr>\n",
       "  </tbody>\n",
       "</table>\n",
       "<p>132 rows × 4 columns</p>\n",
       "</div>"
      ],
      "text/plain": [
       "           Artist           Album                   Title   \\\n",
       "0    Taylor Swift   Taylor Swift                Tim McGraw   \n",
       "1    Taylor Swift   Taylor Swift           Picture to Burn   \n",
       "2    Taylor Swift   Taylor Swift   Teardrops on my Guitar    \n",
       "3    Taylor Swift   Taylor Swift    A Place in This World    \n",
       "4    Taylor Swift   Taylor Swift              Cold As You    \n",
       "..             ...            ...                      ...   \n",
       "127  Taylor Swift       folklore                 mad woman   \n",
       "128  Taylor Swift       folklore                  epiphany   \n",
       "129  Taylor Swift       folklore                     betty   \n",
       "130  Taylor Swift       folklore                     peace   \n",
       "131  Taylor Swift       folklore                      hoax   \n",
       "\n",
       "                                                Lyrics  \n",
       "0    He said the way my blue eyes shinx\\nPut those ...  \n",
       "1    State the obvious, I didn't get my perfect fan...  \n",
       "2    Drew looks at me,\\nI fake a smile so he won't ...  \n",
       "3    I don't know what I want, so don't ask me\\n'Ca...  \n",
       "4    You have a way of coming easily to me\\nAnd whe...  \n",
       "..                                                 ...  \n",
       "127  What did you think I'd say to that?\\nDoes a sc...  \n",
       "128  Keep your helmet\\nKeep your life, son\\nJust a ...  \n",
       "129  Betty, I won't make assumptions about why you ...  \n",
       "130  Our coming of age has come and gone\\nSuddenly ...  \n",
       "131  My only one\\nMy smoking gun\\nMy eclipsed sun\\n...  \n",
       "\n",
       "[132 rows x 4 columns]"
      ]
     },
     "execution_count": 8,
     "metadata": {},
     "output_type": "execute_result"
    }
   ],
   "source": [
    "df"
   ]
  },
  {
   "cell_type": "code",
   "execution_count": 10,
   "id": "2687ee70-528b-4f99-911c-2aa6ad2e5356",
   "metadata": {
    "collapsed": true,
    "jupyter": {
     "outputs_hidden": true
    },
    "tags": []
   },
   "outputs": [
    {
     "data": {
      "text/plain": [
       "[\"Knew he was a killer first time that I saw him\\nWonder how many girls he had loved and left haunted\\nBut if he's a ghost, then I can be a phantom\\nHoldin' him for ransom\\nSome, some boys are tryin' too hard\\nHe don't try at all, though\\nYounger than my exes but he act like such a man, so\\nI see nothing better, I keep him forever\\nLike a vendetta-ta\\nI-I-I see how this is gon' go\\nTouch me and you'll never be alone\\nI-Island breeze and lights down low\\nNo one has to know\\nIn the middle of the night, in my dreams\\nYou should see the things we do, baby\\nIn the middle of the night, in my dreams\\nI know I'm gonna be with you\\nSo I take my time\\nAre you ready for it?\\nMe, I was a robber first time that he saw me\\nStealing hearts and running off and never saying sorry\\nBut if I'm a thief, then he can join the heist\\nAnd we'll move to an island-and\\nAnd he can be my jailer, Burton to this Taylor\\nEvery lover known in comparison is a failure\\nI forget their names now, I'm so very tame now\\nNever be the same now, now\\nI-I-I see how this is gon' go\\nTouch me and you'll never be alone\\nI-Island breeze and lights down low\\nNo one has to know\\n(No one has to know)\\nIn the middle of the night, in my dreams\\nYou should see the things we do, baby\\nIn the middle of the night in my dreams\\nI know I'm gonna be with you\\nSo I take my time\\nAre you ready for it?\\nOoh, are you ready for it?\\nBaby, let the games begin\\nLet the games begin\\nLet the games begin\\nBaby, let the games begin\\nLet the games begin\\nLet the games begin\\nI-I-I see how this is gon' go\\nTouch me and you'll never be alone\\nI-Island breeze and lights down low\\nNo one has to know\\nIn the middle of the night, in my dreams\\nYou should see the things we do, baby\\nIn the middle of the night, in my dreams\\nI know I'm gonna be with you\\nSo I take my time\\nIn the middle of the night\\nBaby, let the games begin\\nLet the games begin\\nLet the games begin\\nAre you ready for it?\\nBaby, let the games begin\\nLet the games begin\\nLet the games begin\\nAre you ready for it?\\n\",\n",
       " \"I wanna be your endgame\\nI wanna be your first string\\nI wanna be your A-Team\\nI wanna be your endgame, endgame\\nBig reputation, big reputation\\nOoh you and me we got big reputations, ah\\nAnd you heard about me, ooh\\nI got some big enemies\\nBig reputation, big reputation\\nOoh you and me would be a big conversation, ah\\nAnd I heard about you, ooh\\nYou like the bad ones too\\nYou so dope, don't overdose\\nI'm so stoked, I need a toast\\nWe do the most\\nI'm in the Ghost like I'm whippin' a boat\\nI got a reputation girl, that don't precede me\\nI'm one call away, whenever you need me\\nI'm in a G5\\nCome to the A side\\nI got a bad boy persona that's what they like\\nYou love it\\nI love it too 'cause you my type\\nYou hold me down and I protect you with my life\\nI don't wanna touch you (I don't wanna be)\\nJust anther ex-love (You don't wanna see)\\nI don't wanna miss you (I don't wanna miss you)\\nLike the other girls do\\nI don't wanna hurt you (I just wanna be)\\nDrinkin' on a beach with (You all over me)\\nI know what they all say (I know what they all say)\\nBut I ain't tryna play\\nI wanna be your endgame\\nI wanna be your first string\\nI wanna be your A Team\\nI wanna be your endgame, endgame\\nKnew her when I was young\\nReconnected when we were little bit older\\nBoth sprung, I got issues and chips on both of my shoulders\\nReputation precedes me, in rumors I'm knee deep\\nThe truth is it's easier to ignore it, believe me\\nEven when we'd argue, we don't do it for long\\nAnd you understand the good and bad, end up in the song\\nFor all your beautiful traits, and the way you do it with ease\\nFor all my flaws, paranoia, and insecurities\\nI've made mistakes, and made some choices that's hard to deny\\nAfter the storm, something was born on the fourth of July\\nI've passed days without fun, this endgame is the one\\nWith four words on the tip of my tongue, I'll never say\\nI don't wanna touch you (I don't wanna be)\\nJust anther ex-love (You don't wanna see)\\nI don't wanna miss you (I don't wanna miss you)\\nLike the other girls do\\nI don't wanna hurt you (I just wanna be)\\nDrinkin' on a beach with (You all over me)\\nI know what they all say\\nBut I ain't tryna play\\nI wanna be your endgame\\nI wanna be your first string\\nI wanna be your A Team\\nI wanna be your endgame, endgame\\nBig reputation, big reputation\\nOoh you and me we got big reputations, ahh\\nAnd you heard about me, ooh\\nI got some big enemies\\nBig reputation, big reputation\\nOoh you and me would be a big conversation, ahh\\nAnd I heard about you, ooh\\nYou like the bad ones too\\nI hit you like bang\\nWe tried to forget it, but we just couldn't\\nAnd I bury hatchets but I keep maps of where I put 'em\\nReputation precedes me, they told you I'm crazy\\nI swear I don't love the drama, it loves me\\nAnd I can't let you go, your hand print's on my soul\\nIt's like your eyes are liquor, it's like your body is gold\\nYou've been calling my bluff on all my usual tricks\\nSo here's the truth from my red lips\\nI wanna be your endgame\\nI wanna be your first string\\nI wanna be your A Team\\nI wanna be your endgame, endgame\\nI wanna be your endgame\\nI wanna be your first string\\nI wanna be your A Team\\nI wanna be your endgame, endgame\",\n",
       " 'I never trust a narcissist\\nBut they love me\\nSo I play \\'em like a violin\\nAnd I make it look oh so easy\\n\\'Cause for every lie I tell them\\nThey tell me three\\nThis is how the world works\\nNow all he thinks about is me\\nI can feel the flames on my skin\\nCrimson red paint on my lips\\nIf a man talks shit, then I owe him nothing\\nI don\\'t regret it one bit, \\'cause he had it coming\\nThey say I did something bad\\nThen why\\'s it feel so good?\\nThey say I did something bad\\nBut why\\'s it feel so good?\\nMost fun I ever had\\nAnd I\\'d do it over and over and over again if I could\\nIt just felt so good, good\\nI never trust a playboy\\nBut they love me\\nSo I fly him all around the world\\nAnd I let them think they saved me\\nThey never see it comin\\'\\nWhat I do next\\nThis is how the world works\\nYou gotta leave before you get left\\nI can feel the flames on my skin\\nHe says, \"Don\\'t throw away a good thing\"\\nBut if he drops my name, then I owe him nothin\\'\\nAnd if he spends my change, then he had it comin\\'\\nThey say I did something bad\\nThen why\\'s it feel so good?\\nThey say I did something bad\\nBut why\\'s it feel so good?\\nMost fun I ever had\\nAnd I\\'d do it over and over and over again if I could\\nIt just felt so good, good\\nIt just felt so good\\nThey\\'re burning all the witches, even if you aren\\'t one\\nThey got their pitchforks and proof\\nTheir receipts and reasons\\nThey\\'re burning all the witches, even if you aren\\'t one\\nSo light me up (light me up), light me up (light me up)\\nLight me up, go ahead and light me up (light me up)\\nLight me up (light me up), light me up (light me up)\\nLight me up (light me up), light me up (light me up)\\nThey say I did something bad\\nThen why\\'s it feel so good?\\nThey say I did something bad\\nBut why\\'s it feel so good?\\nMost fun I ever had\\nAnd I\\'d do it over and over and over again if I could\\nIt just felt so good, good\\nOh, you say I did something bad\\nThen why\\'s it feel so good, good?\\nSo bad, why\\'s it feel so good?\\nWhy\\'s it feel, why\\'s it feel so good? (Bad)\\nIt just felt so good, good\\n',\n",
       " \"Don't blame me, love made me crazy\\nIf it doesn't, you ain't doin' it right\\nLord, save me, my drug is my baby\\nI'd be usin' for the rest of my life\\nI've been breakin' hearts a long time, and\\nToyin' with them older guys\\nJust to play things for me to use\\nSomething happened for the first time, in\\nThe darkest little paradise\\nShakin, pacin', I just need you\\nFor you, I would cross the line\\nI would waste my time\\nI would lose my mind\\nThey say she's gone too far this time\\nDon't blame me, love made me crazy\\nIf it doesn't, you ain't doin' it right\\nLord, save me, my drug is my baby\\nI'd be usin' for the rest of my life\\nDon't blame me, love made me crazy\\nIf it doesn't, you ain't doin' it right\\nOh, Lord, save me, my drug is my baby\\nI'd be usin' for the rest of my life\\nMy name is whatever you decide\\nAnd I'm just gonna call you mine\\nI'm insane, but I'm your baby (your baby)\\nEchoes, love your name inside my mind\\nHalo, hiding my obsession\\nI once was poison ivy, but now I'm your daisy\\nAnd baby, for you, I would fall from grace\\nJust to touch your face\\nIf you walk away\\nI'd beg you on my knees to stay\\nDon't blame me, love made me crazy\\nIf it doesn't, you ain't doin' it right\\nLord, save me, my drug is my baby\\nI'd be usin' for the rest of my life\\nDon't blame me, love made me crazy\\nIf it doesn't, you ain't doin' it right\\nOh, Lord, save me, my drug is my baby\\nI'd be usin' for the rest of my life\\nI get so high, oh\\nEvery time, yeah every time you're lovin' me\\nYou're lovin' me\\nTrip of my life, oh\\nEvery time, yeah every time you're touchin' me\\nYou're touchin' me\\nEvery time, yeah every time you're lovin' me\\nOh Lord, save me, my drug is my baby\\nI'd be usin' for the rest of my life\\nUsin' for the rest of my life, oh\\nDon't blame me, love made me crazy\\nIf it doesn't, you ain't doin' it right (doin' it right, no)\\nLord, save me, my drug is my baby\\nI'd be usin' for the rest of my life, oh\\nDon't blame me, love made me crazy\\nIf it doesn't, you ain't doin' it right (you ain't doin' it)\\nOh, Lord, save me, my drug is my baby\\nI'd be usin' for the rest of my life (I'll be usin', I'll be usin')\\nI get so high, oh\\nEvery time, yeah every time you're lovin' me\\nYou're lovin' me\\nOh, Lord, save me, my drug is my baby\\nI'd be usin' for the rest of my life\\n\",\n",
       " \"This ain't for the best\\nMy reputation's never been worse, so\\nYou must like me for me\\nWe can't make\\nAny promises now, can we, babe?\\nBut you can make me a drink\\nDive bar on the East Side, where you at?\\nPhone lights up my nightstand in the black\\nCome here, you can meet me in the back\\nDark jeans and your Nikes, look at you\\nOh damn, never seen that color blue\\nJust think of the fun things we could do\\n'Cause I like you\\nThis ain't for the best\\nMy reputation's never been worse, so\\nYou must like me for me\\nYeah, I want you\\nWe can't make\\nAny promises now, can we, babe?\\nBut you can make me a drink\\nIs it cool that I said all that?\\nIs it chill that you're in my head?\\n'Cause I know that it's delicate (delicate)\\nIs it cool that I said all that\\nIs it too soon to do this yet?\\n'Cause I know that it's delicate\\nIsn't it? Isn't it? Isn't it? Isn't it?\\nIsn't it? Isn't it? Isn't it? Isn't it?\\nDelicate\\nThird floor on the West Side, me and you\\nHandsome, your mansion with a view\\nDo the girls back home touch you like I do?\\nLong night, with your hands up in my hair\\nEchoes of your footsteps on the stairs\\nStay here, honey, I don't wanna share\\n'Cause I like you\\nThis ain't for the best\\nMy reputation's never been worse, so\\nYou must like me for me\\nYeah, I want you\\nWe can't make\\nAny promises now, can we, babe?\\nBut you can make me a drink\\nIs it cool that I said all that?\\nIs it chill that you're in my head?\\n'Cause I know that it's delicate (delicate)\\nIs it cool that I said all that\\nIs it too soon to do this yet?\\n'Cause I know that it's delicate\\nIsn't it? Isn't it? Isn't it? Isn't it?\\nIsn't it? Isn't it? Isn't it? Isn't it?\\nDelicate\\nSometimes I wonder when you sleep\\nAre you ever dreaming of me?\\nSometimes when I look into your eyes\\nI pretend you're mine, all the damn time\\n'Cause I like you\\nIs it cool that I said all that?\\nIs it chill that you're in my head?\\n'Cause I know that it's delicate (delicate)\\nYeah, I want you\\nIs it cool that I said all that\\nIs it too soon to do this yet?\\n'Cause I know that it's delicate (delicate)\\n'Cause I like you\\nIs it cool that I said all that?\\nIs it chill that you're in my head?\\n'Cause I know that it's delicate (delicate)\\nYeah, I want you\\nIs it cool that I said all that\\nIs it too soon to do this yet?\\n'Cause I know that it's delicate\\nDelicate\\n\",\n",
       " 'I don\\'t like your little games\\nDon\\'t like your tilted stage\\nThe role you made me play\\nOf the fool, no, I don\\'t like you\\nI don\\'t like your perfect crime\\nHow you laugh when you lie\\nYou said the gun was mine\\nIsn\\'t cool, no, I don\\'t like you (oh!)\\nBut I got smarter, I got harder in the nick of time\\nHoney, I rose up from the dead, I do it all the time\\nI\\'ve got a list of names and yours is in red, underlined\\nI check it once, then I check it twice, oh!\\nOoh, look what you made me do\\nLook what you made me do\\nLook what you just made me do\\nLook what you just made me\\nOoh, look what you made me do\\nLook what you made me do\\nLook what you just made me do\\nLook what you just made me do\\nI don\\'t like your kingdom keys\\nThey once belonged to me\\nYou ask me for a place to sleep\\nLocked me out and threw a feast (what!?)\\nThe world moves on, another day, another drama, drama\\nBut not for me, not for me, all I think about is karma\\nAnd then the world moves on, but one thing\\'s for sure (sure)\\nMaybe I got mine, but you\\'ll all get yours\\nBut I got smarter, I got harder in the nick of time (nick of time)\\nHoney, I rose up from the dead, I do it all the time (I do it all the time)\\nI\\'ve got a list of names and yours is in red, underlined\\nI check it once, then I check it twice, oh!\\nOoh, look what you made me do\\nLook what you made me do\\nLook what you just made me do\\nLook what you just made me\\nOoh, look what you made me do\\nLook what you made me do\\nLook what you just made me do\\nLook what you just made me do\\nI don\\'t trust nobody and nobody trusts me\\nI\\'ll be the actress starring in your bad dreams\\nI don\\'t trust nobody and nobody trusts me\\nI\\'ll be the actress starring in your bad dreams\\nI don\\'t trust nobody and nobody trusts me\\nI\\'ll be the actress starring in your bad dreams\\nI don\\'t trust nobody and nobody trusts me\\nI\\'ll be the actress starring in your bad dreams\\n(Ooh, look what you made me do)\\n(Look what you made me do)\\n(Look what you just made me do)\\n\"I\\'m sorry, the old Taylor can\\'t come to the phone right now\" (Ooh, look what you made me do)\\n\"Why?\" (Look what you made me do)\\n\"Oh, \\'cause she\\'s dead!\" (oh!)\\nOoh, look what you made me do\\nLook what you made me do\\nLook what you just made me do\\nLook what you just made me\\nOoh, look what you made me do\\nLook what you made me do\\nLook what you just made me do\\nLook what you just made me do\\nOoh, look what you made me do\\nLook what you made me do\\nLook what you just made me do\\nLook what you just made me\\nOoh, look what you made me do\\nLook what you made me do\\nLook what you just made me do\\nLook what you just made me do\\n',\n",
       " \"See you in the dark\\nAll eyes on you, my magician\\nAll eyes on us\\nYou make everyone disappear, and\\nCut me into pieces\\nGold cage, hostage to my feelings\\nBack against the wall\\nTrippin', trip-trippin' when you're gone\\n'Cause we break down a little\\nAnd when you get me alone, it's so simple\\n'Cause baby, I know what you know\\nWe can feel it\\nAnd our pieces fall\\nRight into place\\nGet caught up in the moments\\nLipstick on your face\\nSo it goes\\nI'm yours to keep\\nAnd I'm yours to lose\\nYou know I'm not a bad girl, but I\\nDo bad things with you\\nSo it goes\\nMet you in a bar\\nAll eyes on me, your illusion is\\nAll eyes on us\\nI make all your grey days clear and\\nWear you like a necklace\\nI'm so chill, but you make me jealous\\nBut I got your heart\\nSkippin', skip-skippin' when I'm gone\\n'Cause we break down a little\\nAnd when you get me alone, it's so simple\\n'Cause baby, I know what you know\\nWe can feel it\\nAnd our pieces fall\\nRight into place\\nGet caught up in the moments\\nLipstick on your face\\nSo it goes\\nI'm yours to keep\\nAnd I'm yours to lose\\nYou know I'm not a bad girl, but I\\nDo bad things with you\\nSo it goes\\nCome here, dressed in black now\\nSo, so, so it goes\\nScratches down your back now\\nSo, so, so it goes\\nYou did a number on me\\nBut, honestly, baby, who's counting?\\nI did a number on you\\nBut, honestly, baby, who's counting?\\nYou did a number on me\\nBut, honestly, baby, who's counting?\\nWho's counting?\\n1, 2, 3\\nAnd our pieces fall (pieces)\\nRight into place\\nGet caught up in the moments (caught up, caught up)\\nLipstick on your face\\nSo it goes\\nI'm yours to keep (oh)\\nAnd I'm yours to lose (baby)\\nYou know I'm not a bad girl, but I\\nDo bad things with you\\nSo it goes\\nCome here, dressed in black now\\nSo, so, so it goes\\nScratches down your back now\\nSo, so, so it goes\\nCome here, dressed in black now\\nSo, so, so it goes\\nScratches down your back now\\nSo, so, so it goes\",\n",
       " \"You should take it as a compliment\\nThat I got drunk and made fun of the way you talk\\nYou should think about the consequence\\nOf your magnetic field being a little too strong\\nAnd I got a boyfriend, he's older than us\\nHe's in the club doing, I don't know what\\nYou're so cool, it makes me hate you so much (I hate you so much)\\nWhisky on ice, Sunset and Vine\\nYou've ruined my life, by not being mine\\nYou're so gorgeous\\nI can't say anything to your face\\n'Cause look at your face\\nAnd I'm so furious\\nAt you for making me feel this way\\nBut, what can I say?\\nYou're gorgeous\\nYou should take it as a compliment\\nThat I'm talking to everyone here but you (but you, but you)\\nAnd you should think about the consequence\\nOf you touching my hand in the darkened room (dark room, dark room)\\nIf you've got a girlfriend, I'm jealous of her\\nBut if you're single that's honestly worse\\n'Cause you're so gorgeous it actually hurts\\n(Honey, it hurts)\\nOcean blue eyes looking in mine\\nI feel like I might sink and drown and die\\nYou're so gorgeous\\nI can't say anything to your face (to your face)\\n'Cause look at your face (look at your face)\\nAnd I'm so furious\\nAt you for making me feel this way\\nBut what can I say?\\nYou're gorgeous\\nYou make me so happy, it turns back to sad, yeah\\nThere's nothing I hate more than what I can't have\\nYou are so gorgeous it makes me so mad\\nYou make me so happy, it turns back to sad, yeah\\nThere's nothing I hate more than what I can't have\\nGuess I'll just stumble on home to my cats\\nAlone, unless you wanna come along, oh\\nYou're so gorgeous\\nI can't say anything to your face (to your face)\\n'Cause look at your face (look at your face)\\nAnd I'm so furious (I'm so furious)\\nAt you for making me feel this way (feel this way)\\nBut what can I say? (I say)\\nYou're gorgeous\\nYou make me so happy, it turns back to sad, yeah\\nThere's nothing I hate more than what I can't have\\nYou are so gorgeous it makes me so mad\\nYou're gorgeous\\nYou make me so happy, it turns back to sad, yeah\\nThere's nothing I hate more than what I can't have\\nYou are so gorgeous it makes me so mad\\nYou're gorgeous\\n\",\n",
       " 'He was the best of times, the worst of crimes\\nI struck a match \\nAnd blew your mind, but I didn\\'t mean it\\nAnd you didn\\'t see it\\nThe ties were black, the lies were white\\nAnd shades of grey in candlelight\\nI wanted to leave him\\nI needed a reason\\nX marks the spot\\nWhere we fell apart\\nHe poisoned the well, I was lyin\\' to myself\\nI knew it from the first Old Fashioned, we were cursed\\nWe never had a shotgun shot in the dark\\nYou were drivin\\' \\nThe getaway car\\nWe were flyin\\'\\nBut we\\'d never get far\\nDon\\'t pretend it\\'s such a mystery\\nThink about the place where you first met me\\nWe\\'re ridin\\' \\nIn a getaway car\\nThere were sirens in the beat of your heart\\nShould\\'ve known I\\'d be the first to leave\\nThink about the place where you first met me\\nIn a getaway car, oh-oh\\nNo, they never get far, oh-oh-ahh\\nNo, nothing good starts \\nIn a getaway car\\nIt was the great escape\\nThe prison break\\nThe light of freedom on my face\\nBut you weren\\'t thinkin\\'\\nAnd I was just drinkin\\'\\nWhile he was runnin\\' after us\\nI was screamin\\', \"Go, go, go!\"\\nBut with three of us, honey, it\\'s a side show\\nAnd a circus ain\\'t a love story\\nAnd now we\\'re both sorry\\n(We\\'re both sorry)\\nX marks the spot\\nWhere we fell apart\\nHe poisoned the well\\nEvery man for himself\\nI knew it from the first Old Fashioned, we were cursed\\nIt hit you like a shotgun shot to the heart\\nYou were drivin\\' \\nThe getaway car\\nWe were flyin\\'\\nBut we\\'d never get far\\nDon\\'t pretend it\\'s such a mystery\\nThink about the place where you first met me\\nWe\\'re ridin\\' \\nIn a getaway car\\nThere were sirens \\nIn the beat of your heart\\nShould\\'ve known I\\'d be the first to leave\\nThink about the place where you first met me\\nIn a getaway car, oh-oh\\nNo, they never get far, oh-oh-ahh\\nNo, nothing good starts \\nIn a getaway car\\nWe were jet-set, Bonnie and Clyde (ohh)\\nUntil I switched to the other side\\nTo the other si-i-i-i-ide\\nIt\\'s no surprise I turned you in (ohh)\\n\\'Cause us traitors never win\\nI\\'m in a getaway car\\nI left you in a motel bar\\nPut the money in a bag and I stole the keys\\nThat was the last time you ever saw me (go!)\\nDrivin\\' \\nThe getaway car\\nWe were flyin\\'\\nBut we\\'d never get far\\nDon\\'t pretend it\\'s such a mystery\\nThink about the place where you first met me\\nWe\\'re ridin\\' \\nIn a getaway car\\nThere were sirens\\nIn the beat of your heart\\n(Should\\'ve known) should\\'ve known I\\'d be the first to leave\\nThink about the place where you first met me\\nIn a getaway car, oh-oh\\nNo, they never get far, oh-oh-ahh\\nNo, nothing good starts \\nIn a getaway car\\nI was ridin\\' \\nIn a getaway car\\nI was cryin\\' \\nIn a getaway car\\nI was dyin\\' \\nIn a getaway car\\nSaid goodbye in \\nA getaway car\\nRidin\\' \\nIn a getaway car\\nI was cryin\\' \\nIn a getaway car\\nI was dyin\\'\\nIn a getaway car\\nSaid goodbye in \\nA getaway car\\n',\n",
       " \"I'm perfectly fine, I live on my own\\nI made up on my mind, I'm better off bein' alone\\nWe met a few weeks ago\\nNow you try on callin' me, baby, like tryin' on clothes\\nSo prove to me I'm your American Queen\\nAnd you move to me like I'm a Motown beat\\nAnd we rule the kingdom inside my room\\n'Cause all the boys and their expensive cars\\nWith their Range Rovers and their Jaguars\\nNever took me quite where you do\\nAnd all at once, you are the one I have been waiting for\\nKing of my heart, body and soul, ooh whoa\\nAnd all at once, you are all I want, I'll never let you go\\nKing of my heart, body and soul, ooh whoa\\nAnd all at once, I've been waiting, waiting\\nOoh whoa, ooh whoa\\nAnd all at once, you are the one, I have been waiting, waiting\\nBody and soul, ooh whoa\\nAnd all at once\\nLate in the night, the city's asleep\\nYour love is a secret I'm hoping, dreaming, dying to keep\\nChange my priorities\\nThe taste of your lips is my idea of luxury\\nSo prove to me I'm your American Queen\\nAnd you move to me like I'm a Motown beat\\nAnd we rule the kingdom inside my room\\n'Cause all the boys and their expensive cars\\nWith their Range Rovers and their Jaguars\\nNever took me quite where you do\\nAnd all at once, you are the one I have been waiting for\\nKing of my heart, body and soul, ooh whoa\\nAnd all at once, you are all I want, I'll never let you go\\nKing of my heart, body and soul, ooh whoa\\nAnd all at once, I've been waiting, waiting\\nOoh whoa, ooh whoa\\nAnd all at once, you are the one, I have been waiting, waiting\\nBody and soul, ooh whoa\\nAnd all at once\\nIs the end of all the endings?\\nMy broken bones are mending\\nWith all these nights we're spending\\nUp on the roof with a school girl crush\\nDrinking beer out of plastic cups\\nSay you fancy me, not fancy stuff\\nBaby, all at once, this is enough\\nAnd all at once, you are the one I have been waiting for\\nKing of my heart, body and soul, ooh whoa\\nAnd all at once, you are the one I have been waiting for\\nKing of my heart, body and soul, ooh whoa\\nAnd all at once, you're all I want, I'll never let you go\\nKing of my heart, body and soul, ooh whoa\\nAnd all at once, I've been waiting, waiting\\nOoh whoa, ooh whoa\\nAnd all at once, you are the one, I have been waiting, waiting\\nBody and soul, ooh whoa\\nAnd all at once\\n\",\n",
       " \"I, I loved you in secret\\nFirst sight, yeah, we love without reason\\nOh, twenty-five years old\\nOh, how were you to know, and\\nMy, my love had been frozen\\nDeep blue, but you painted me golden\\nOh, and you held me close\\nOh, how was I to know that\\nI could've spent forever with your hands in my pockets\\nPicture of your face in an invisible locket\\nYou said there was nothing in the world that could stop it\\nI had a bad feeling\\nAnd darling, you had turned my bed into a sacred oasis\\nPeople started talking, putting us through our paces\\nI knew there was no one in the world who could take it\\nI had a bad feeling\\nBut we were dancing\\nDancing with our hands tied, hands tied\\nYeah, we were dancing\\nLike it was the first time, first time\\nYeah, we were dancing\\nDancing with our hands tied, hands tied\\nYeah, we were dancing\\nAnd I had a bad feeling\\nBut we were dancing\\nI, I loved you in spite of\\nDeep fears that the world would divide us\\nSo, baby, can we dance\\nOh, through an avalanche?\\nAnd say, say that we got it\\nI'm a mess, but I'm the mess that you wanted\\nOh, 'cause it's gravity\\nOh, keeping you with me\\nI could've spent forever with your hands in my pockets\\nPicture of your face in an invisible locket\\nYou said there was nothing in the world that could stop it\\nI had a bad feeling\\nBut we were dancing\\nDancing with our hands tied, hands tied\\nYeah, we were dancing\\nLike it was the first time, first time\\nYeah, we were dancing\\nDancing with our hands tied, hands tied\\nYeah, we were dancing\\n(Ooh, we had our hands tied)\\nAnd I had a bad feeling\\nBut we were dancing\\nI'd kiss you as the lights went out\\nSwaying as the room burned down\\nI'd hold you as the water rushes in\\nIf I could dance with you again\\nI'd kiss you as the lights went out\\nSwaying as the room burned down\\nI'd hold you as the water rushes in\\nIf I could dance with you again\\nDancing with our hands tied, hands tied\\nYeah, we were dancing\\nLike it was the first time, first time\\nYeah, we were dancing\\nDancing with our hands tied, hands tied\\nYeah, we were dancing\\nAnd I had a bad feeling\\nBut we were dancing\\nHands tied, hands tied\\n\",\n",
       " \"Our secret moments in your crowded room\\nThey've got no idea about me and you\\nThere is an indentation in the shape of you\\nMade your mark on me, a golden tattoo\\nAll of this silence and patience, pining in anticipation\\nMy hands are shaking from holding back from you (ah, ah, ah)\\nAll of this silence and patience, pining and desperately waiting\\nMy hands are shaking from holding back from all this (ha, ha, ha, ha)\\nSay my name and everything just stops\\nI don't want you like a best friend\\nOnly bought this dress so you could take it off\\nTake it off (ha, ha, ha)\\nCarve your name into my bedpost\\n'Cause I don't want you like a best friend\\nOnly bought this dress so you could take it off\\nTake it off (ha, ha, ha, ha)\\nInescapable, I'm not even gonna try\\nAnd if I get burned, at least we were electrified\\nI'm spilling wine in the bathtub, you kiss my face and we're both drunk\\nEveryone thinks that they know us, but they know nothing about\\nAll of this silence and patience, pining in anticipation\\nMy hands are shaking from holding back from you (ah, ah, ah)\\nAll of this silence and patience, pining and desperately waiting\\nMy hands are shaking from holding back from all this (ha, ha, ha, ha)\\nSay my name and everything just stops\\nI don't want you like a best friend\\nOnly bought this dress so you could take it off\\nTake it off (ha, ha, ha)\\nCarve your name into my bedpost\\n'Cause I don't want you like a best friend\\nOnly bought this dress so you could take it off, take it off (ha, ha, ha, ha)\\nOnly bought this dress so you could take it off, take it off (ha, ha, ha, ha)\\nOnly bought this dress so you could take it off\\nFlashback when you met me\\nYour buzzcut and my hair bleached\\nEven in my worst times, you could see the best of me\\nFlashback to my mistakes\\nMy rebounds, my earthquakes\\nEven in my worst lies, you saw the truth of me\\nAnd I woke up just in time\\nNow I wake up by your side\\nMy one and only, my lifeline\\nI woke up just in time\\nNow I wake up by your side\\nMy hands shake, I can't explain this (ha, ha, ha, ha)\\nSay my name and everything just stops\\nI don't want you like a best friend\\nOnly bought this dress so you could take it off, take it off (ha, ha, ha, ha)\\nCarve your name into my bedpost\\n'Cause I don't want you like a best friend\\nOnly bought this dress so you could take it off, take it off (ha, ha, ha, ha)\\nThere is an indentation\\nIn the shape of you\\nOnly bought this dress so you could take it off\\nYou made your mark on me, golden tattoo\\nOnly bought this dress so you could take it off\\n\",\n",
       " \"It was so nice throwing big parties\\nJumping to the pool from the balcony\\nEveryone swimming in a champagne sea\\nAnd there are no rules when you show up here\\nBass beat rattling the chandelier\\nFeeling so Gatsby for that whole year\\nSo why'd you have to rain on my parade?\\nI'm shaking my head\\nI'm locking the gates\\nThis is why we can't have nice things, darling\\nBecause you break them\\nI had to take them away\\nThis is why we can't have nice things, honey\\nDid you think I wouldn't hear all the things you said about me?\\nThis is why we can't have nice things\\nIt was so nice being friends again\\nThere I was giving you a second chance\\nBut you stabbed my back while shaking my hand\\nAnd therein lies the issue\\nFriends don't try to trick you\\nGet you on the phone and mind-twist you\\nAnd so I took an axe to a mended fence\\nBut I'm not the only friend you've lost lately, hm hm\\nIf only you weren't\\nSo shady\\nThis is why we can't have nice things, darling\\nBecause you break them\\nI had to take them away\\nThis is why we can't have nice (nice things)\\nThings (baby) honey\\nDid you think I wouldn't hear all the things you said about me?\\nThis is why we can't have\\nHere's a toast to my real friends\\nThey don't care about that he said, she said\\nAnd here's to my baby\\nHe ain't reading what they call me lately\\nAnd here's to my momma\\nHad to listen to all this drama\\nAnd here's to you\\n'Cause forgiveness is a nice thing to do\\nI can't even say it with a straight face\\nThis is why we can't have nice things, darling (darling)\\nBecause you break them\\nI had to take them away\\nThis is why we can't have nice things, honey\\nDid you think I wouldn't hear all the things you said about me?\\nThis is why we can't have nice things, darling\\n(And here's to my real friends)\\nBecause you break them, I want to take them \\nAnd here's to my baby\\nNice things, honey (they don't care about that he said, she said)\\nDid you think I wouldn't hear all the things you said about me?\\nThis is why we can't have nice things\\n\",\n",
       " 'My castle crumbled overnight\\nI brought a knife to a gunfight\\nThey took the crown, but it\\'s alright\\nAll the liars are calling me one\\nNobody\\'s heard from me for months\\nI\\'m doing better than I ever was, \\'cause\\nMy baby\\'s fit like a daydream\\nWalking with his head down\\nI\\'m the one he\\'s walking to\\nSo call it what you want, yeah, call it what you want to\\nMy baby\\'s fly like a jet stream\\nHigh above the whole scene\\nLoves me like I\\'m brand new\\nSo call it what you want, yeah, call it what you want to\\nAll my flowers grew back as thorns\\nWindows boarded up after the storm\\nHe built a fire just to keep me warm\\nAll the drama queens taking swings\\nAll the jokers dressin\\' up as kings\\nThey fade to nothing when I look at him\\nAnd I know I make the same mistakes every time\\nBridges burn, I never learn, at least I did one thing right\\nI did one thing right\\nI\\'m laughing with my lover, making forts under covers\\nTrust him like a brother, yeah, you know I did one thing right\\nStarry eyes sparkin\\' up my darkest night\\nMy baby\\'s fit like a daydream\\nWalking with his head down\\nI\\'m the one he\\'s walking to\\nSo call it what you want, yeah, call it what you want to\\nMy baby\\'s fly like a jet stream\\nHigh above the whole scene\\nLoves me like I\\'m brand new\\n(Call it what you want, call it what you want, call it)\\nSo call it what you want, yeah, call it what you want to\\nI want to wear his initial\\nOn a chain round my neck, chain round my neck\\nNot because he owns me\\nBut \\'cause he really knows me\\nWhich is more than they can say, I\\nI recall late November, holdin\\' my breath\\nSlowly I said, \"You don\\'t need to save me\\nBut would you run away with me?\"\\nYes (would you run away?)\\nMy baby\\'s fit like a daydream\\nWalking with his head down\\nI\\'m the one he\\'s walking to\\n(Call it what you want, call it what you want, call it)\\nSo call it what you want, yeah, call it what you want to\\nMy baby\\'s fly like a jet stream\\nHigh above the whole scene\\nLoves me like I\\'m brand new\\n(Call it what you want, call it what you want, call it)\\nSo call it what you want, yeah, call it what you want to\\nCall it what you want, yeah\\nCall it what you want\\nTo\\n',\n",
       " \"There's glitter on the floor after the party\\nGirls carrying their shoes down in the lobby\\nCandle wax and Polaroids on the hardwood floor\\nYou and me from the night before but\\nDon't read the last page\\nBut I stay when you're lost and I'm scared and you're turning away\\nI want your midnights\\nBut I'll be cleaning up bottles with you on New Year's Day\\nYou squeeze my hand three times in the back of the taxi\\nI can tell that it's going to be a long road\\nI'll be there if you're the toast of the town babe\\nOr if you strike out and you're crawling home\\nDon't read the last page\\nBut I stay when it's hard or it's wrong or you're making mistakes\\nI want your midnights\\nBut I'll be cleaning up bottles with you on New Year's Day\\nHold on to the memories, they will hold on to you\\nHold on to the memories, they will hold on to you\\nHold on to the memories, they will hold on to you\\nAnd I will hold on to you\\nPlease don't ever become a stranger whose laugh I could recognize anywhere\\nPlease don't ever become a stranger whose laugh I could recognize anywhere\\nThere's glitter on the floor after the party\\nGirls carrying their shoes down in the lobby\\nCandle wax and Polaroids on the hardwood floor\\nYou and me forevermore\\nDon't read the last page\\nBut I stay when it's hard or it's wrong or we're making mistakes\\nI want your midnights\\nBut I'll be cleaning up bottles with you on New Year's Day\\nHold on to the memories, they will hold on to you\\nHold on to the memories, they will hold on to you\\nHold on to the memories, they will hold on to you\\nAnd I will hold on to you\\nPlease don't ever become a stranger whose laugh I could recognize anywhere\\nPlease don't ever become a stranger whose laugh I could recognize anywhere\\n\"]"
      ]
     },
     "execution_count": 10,
     "metadata": {},
     "output_type": "execute_result"
    }
   ],
   "source": [
    "reputation"
   ]
  },
  {
   "cell_type": "code",
   "execution_count": null,
   "id": "dc75d75c-6e49-4785-a9b8-50001f5888cb",
   "metadata": {},
   "outputs": [],
   "source": []
  }
 ],
 "metadata": {
  "kernelspec": {
   "display_name": "Python 3 (ipykernel)",
   "language": "python",
   "name": "python3"
  },
  "language_info": {
   "codemirror_mode": {
    "name": "ipython",
    "version": 3
   },
   "file_extension": ".py",
   "mimetype": "text/x-python",
   "name": "python",
   "nbconvert_exporter": "python",
   "pygments_lexer": "ipython3",
   "version": "3.9.6"
  }
 },
 "nbformat": 4,
 "nbformat_minor": 5
}
