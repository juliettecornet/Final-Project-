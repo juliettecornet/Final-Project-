{
 "cells": [
  {
   "cell_type": "code",
   "execution_count": 30,
   "id": "a8762534-9bf2-4579-a8ec-b39bc4a1dcd3",
   "metadata": {},
   "outputs": [],
   "source": [
    "#FINAL prject \n",
    "# New Final Project Proposal\n",
    "## Comnpare the differnt eras/albums of Taylor Swift\n",
    "\n",
    "# New Final Project Proposal\n",
    "## Comnpare the differnt eras/albums of Taylor Swift\n",
    "\n",
    "#For my final project, I have decided that I wanted to do textual analysis of all of Taylor Swift's songs and albums to try and track her different \"eras\". For those unfamiliar, Taylor is known her her constantly changing persona over the years since she has been constantly reinventing herself. While this is very apparent in the changes of her physial appearance and in her music videos and concert performance, I want to see if these shifts are apparent from the lyrics in all her albums alone. Through data and textual analysis, I want to see if certain trends in her lyrics give us insifht into the different changes she has undergone over the years. \n",
    "\n",
    "#The dataset I will be using is from Github and has every lyric from every song of every one of her albums: https://github.com/rfordatascience/tidytuesday/blob/master/data/2020/2020-09-29/taylor_swift_lyrics.csv . However, I might find that it could be easier to just go into her song and import them myself. But for now I will be working with this Github dataset.\n",
    "\n",
    "#To find differences in her lyrics, I want to look at word count to see if length plays any part in her different eras. From there, I want to look at the word frequencies to find out if the most common words in each album give us a sense of her persona. I will then compare those words to what I know about her persona. I also think I would be interesting to do sentiment checks and polarity checks to find the overall tone in each of her albums. \n",
    "\n",
    "#For now, I hypthesize that there will be some kiind of tonal differences between her albums, although some might be more obvious than others. "
   ]
  },
  {
   "cell_type": "code",
   "execution_count": 5,
   "id": "8145e91b-c7d2-448c-816d-77126440342e",
   "metadata": {},
   "outputs": [],
   "source": [
    "#importing the taylor swift dataset \n",
    "import pandas as pd\n",
    "df = pd.read_csv('01-taylor_swift.csv')"
   ]
  },
  {
   "cell_type": "code",
   "execution_count": 4,
   "id": "33adcaea-92a5-4ce2-a001-1a1dc9c254af",
   "metadata": {},
   "outputs": [
    {
     "data": {
      "text/html": [
       "<div>\n",
       "<style scoped>\n",
       "    .dataframe tbody tr th:only-of-type {\n",
       "        vertical-align: middle;\n",
       "    }\n",
       "\n",
       "    .dataframe tbody tr th {\n",
       "        vertical-align: top;\n",
       "    }\n",
       "\n",
       "    .dataframe thead th {\n",
       "        text-align: right;\n",
       "    }\n",
       "</style>\n",
       "<table border=\"1\" class=\"dataframe\">\n",
       "  <thead>\n",
       "    <tr style=\"text-align: right;\">\n",
       "      <th></th>\n",
       "      <th>album_name</th>\n",
       "      <th>track_title</th>\n",
       "      <th>track_n</th>\n",
       "      <th>lyric</th>\n",
       "      <th>line</th>\n",
       "    </tr>\n",
       "  </thead>\n",
       "  <tbody>\n",
       "    <tr>\n",
       "      <th>0</th>\n",
       "      <td>Taylor Swift</td>\n",
       "      <td>Tim McGraw</td>\n",
       "      <td>1</td>\n",
       "      <td>He said the way my blue eyes shined</td>\n",
       "      <td>1</td>\n",
       "    </tr>\n",
       "    <tr>\n",
       "      <th>1</th>\n",
       "      <td>Taylor Swift</td>\n",
       "      <td>Tim McGraw</td>\n",
       "      <td>1</td>\n",
       "      <td>Put those Georgia stars to shame that night</td>\n",
       "      <td>2</td>\n",
       "    </tr>\n",
       "    <tr>\n",
       "      <th>2</th>\n",
       "      <td>Taylor Swift</td>\n",
       "      <td>Tim McGraw</td>\n",
       "      <td>1</td>\n",
       "      <td>I said, \"That's a lie\"</td>\n",
       "      <td>3</td>\n",
       "    </tr>\n",
       "    <tr>\n",
       "      <th>3</th>\n",
       "      <td>Taylor Swift</td>\n",
       "      <td>Tim McGraw</td>\n",
       "      <td>1</td>\n",
       "      <td>Just a boy in a Chevy truck</td>\n",
       "      <td>4</td>\n",
       "    </tr>\n",
       "    <tr>\n",
       "      <th>4</th>\n",
       "      <td>Taylor Swift</td>\n",
       "      <td>Tim McGraw</td>\n",
       "      <td>1</td>\n",
       "      <td>That had a tendency of gettin' stuck</td>\n",
       "      <td>5</td>\n",
       "    </tr>\n",
       "    <tr>\n",
       "      <th>...</th>\n",
       "      <td>...</td>\n",
       "      <td>...</td>\n",
       "      <td>...</td>\n",
       "      <td>...</td>\n",
       "      <td>...</td>\n",
       "    </tr>\n",
       "    <tr>\n",
       "      <th>604</th>\n",
       "      <td>Taylor Swift</td>\n",
       "      <td>Teardrops on My Guitar (Pop Version)</td>\n",
       "      <td>15</td>\n",
       "      <td>Don't know why I do</td>\n",
       "      <td>40</td>\n",
       "    </tr>\n",
       "    <tr>\n",
       "      <th>605</th>\n",
       "      <td>Taylor Swift</td>\n",
       "      <td>Teardrops on My Guitar (Pop Version)</td>\n",
       "      <td>15</td>\n",
       "      <td>He's the time taken up, but there's never enough</td>\n",
       "      <td>41</td>\n",
       "    </tr>\n",
       "    <tr>\n",
       "      <th>606</th>\n",
       "      <td>Taylor Swift</td>\n",
       "      <td>Teardrops on My Guitar (Pop Version)</td>\n",
       "      <td>15</td>\n",
       "      <td>And he's all that I need to fall into</td>\n",
       "      <td>42</td>\n",
       "    </tr>\n",
       "    <tr>\n",
       "      <th>607</th>\n",
       "      <td>Taylor Swift</td>\n",
       "      <td>Teardrops on My Guitar (Pop Version)</td>\n",
       "      <td>15</td>\n",
       "      <td>Drew looks at me</td>\n",
       "      <td>43</td>\n",
       "    </tr>\n",
       "    <tr>\n",
       "      <th>608</th>\n",
       "      <td>Taylor Swift</td>\n",
       "      <td>Teardrops on My Guitar (Pop Version)</td>\n",
       "      <td>15</td>\n",
       "      <td>I fake a smile so he won't see</td>\n",
       "      <td>44</td>\n",
       "    </tr>\n",
       "  </tbody>\n",
       "</table>\n",
       "<p>609 rows × 5 columns</p>\n",
       "</div>"
      ],
      "text/plain": [
       "       album_name                           track_title  track_n  \\\n",
       "0    Taylor Swift                            Tim McGraw        1   \n",
       "1    Taylor Swift                            Tim McGraw        1   \n",
       "2    Taylor Swift                            Tim McGraw        1   \n",
       "3    Taylor Swift                            Tim McGraw        1   \n",
       "4    Taylor Swift                            Tim McGraw        1   \n",
       "..            ...                                   ...      ...   \n",
       "604  Taylor Swift  Teardrops on My Guitar (Pop Version)       15   \n",
       "605  Taylor Swift  Teardrops on My Guitar (Pop Version)       15   \n",
       "606  Taylor Swift  Teardrops on My Guitar (Pop Version)       15   \n",
       "607  Taylor Swift  Teardrops on My Guitar (Pop Version)       15   \n",
       "608  Taylor Swift  Teardrops on My Guitar (Pop Version)       15   \n",
       "\n",
       "                                                lyric  line  \n",
       "0                 He said the way my blue eyes shined     1  \n",
       "1         Put those Georgia stars to shame that night     2  \n",
       "2                              I said, \"That's a lie\"     3  \n",
       "3                         Just a boy in a Chevy truck     4  \n",
       "4                That had a tendency of gettin' stuck     5  \n",
       "..                                                ...   ...  \n",
       "604                               Don't know why I do    40  \n",
       "605  He's the time taken up, but there's never enough    41  \n",
       "606             And he's all that I need to fall into    42  \n",
       "607                                  Drew looks at me    43  \n",
       "608                    I fake a smile so he won't see    44  \n",
       "\n",
       "[609 rows x 5 columns]"
      ]
     },
     "execution_count": 4,
     "metadata": {},
     "output_type": "execute_result"
    }
   ],
   "source": [
    "df"
   ]
  },
  {
   "cell_type": "code",
   "execution_count": 6,
   "id": "9a4bcb0a-13c6-4695-993b-4dc716660dbb",
   "metadata": {},
   "outputs": [
    {
     "data": {
      "text/plain": [
       "Index(['album_name', 'track_title', 'track_n', 'lyric', 'line'], dtype='object')"
      ]
     },
     "execution_count": 6,
     "metadata": {},
     "output_type": "execute_result"
    }
   ],
   "source": [
    "#looking at some summary info about the data\n",
    "df.columns"
   ]
  },
  {
   "cell_type": "code",
   "execution_count": 7,
   "id": "295f75af-a22a-43c1-baa1-4649bfbe4676",
   "metadata": {},
   "outputs": [
    {
     "data": {
      "text/plain": [
       "album_name     object\n",
       "track_title    object\n",
       "track_n         int64\n",
       "lyric          object\n",
       "line            int64\n",
       "dtype: object"
      ]
     },
     "execution_count": 7,
     "metadata": {},
     "output_type": "execute_result"
    }
   ],
   "source": [
    "df.dtypes"
   ]
  },
  {
   "cell_type": "code",
   "execution_count": 8,
   "id": "68e0c8dd-0873-4ac8-aee0-e3f4b5fac0b3",
   "metadata": {},
   "outputs": [
    {
     "data": {
      "text/plain": [
       "<bound method DataFrame.info of        album_name                           track_title  track_n  \\\n",
       "0    Taylor Swift                            Tim McGraw        1   \n",
       "1    Taylor Swift                            Tim McGraw        1   \n",
       "2    Taylor Swift                            Tim McGraw        1   \n",
       "3    Taylor Swift                            Tim McGraw        1   \n",
       "4    Taylor Swift                            Tim McGraw        1   \n",
       "..            ...                                   ...      ...   \n",
       "604  Taylor Swift  Teardrops on My Guitar (Pop Version)       15   \n",
       "605  Taylor Swift  Teardrops on My Guitar (Pop Version)       15   \n",
       "606  Taylor Swift  Teardrops on My Guitar (Pop Version)       15   \n",
       "607  Taylor Swift  Teardrops on My Guitar (Pop Version)       15   \n",
       "608  Taylor Swift  Teardrops on My Guitar (Pop Version)       15   \n",
       "\n",
       "                                                lyric  line  \n",
       "0                 He said the way my blue eyes shined     1  \n",
       "1         Put those Georgia stars to shame that night     2  \n",
       "2                              I said, \"That's a lie\"     3  \n",
       "3                         Just a boy in a Chevy truck     4  \n",
       "4                That had a tendency of gettin' stuck     5  \n",
       "..                                                ...   ...  \n",
       "604                               Don't know why I do    40  \n",
       "605  He's the time taken up, but there's never enough    41  \n",
       "606             And he's all that I need to fall into    42  \n",
       "607                                  Drew looks at me    43  \n",
       "608                    I fake a smile so he won't see    44  \n",
       "\n",
       "[609 rows x 5 columns]>"
      ]
     },
     "execution_count": 8,
     "metadata": {},
     "output_type": "execute_result"
    }
   ],
   "source": [
    "df.info"
   ]
  },
  {
   "cell_type": "code",
   "execution_count": 12,
   "id": "fec82cde-081a-4d5d-b869-a4b43c04bfca",
   "metadata": {},
   "outputs": [
    {
     "data": {
      "text/html": [
       "<div>\n",
       "<style scoped>\n",
       "    .dataframe tbody tr th:only-of-type {\n",
       "        vertical-align: middle;\n",
       "    }\n",
       "\n",
       "    .dataframe tbody tr th {\n",
       "        vertical-align: top;\n",
       "    }\n",
       "\n",
       "    .dataframe thead th {\n",
       "        text-align: right;\n",
       "    }\n",
       "</style>\n",
       "<table border=\"1\" class=\"dataframe\">\n",
       "  <thead>\n",
       "    <tr style=\"text-align: right;\">\n",
       "      <th></th>\n",
       "      <th>album_name</th>\n",
       "      <th>track_title</th>\n",
       "      <th>track_n</th>\n",
       "      <th>lyric</th>\n",
       "      <th>line</th>\n",
       "    </tr>\n",
       "  </thead>\n",
       "  <tbody>\n",
       "    <tr>\n",
       "      <th>0</th>\n",
       "      <td>Taylor Swift</td>\n",
       "      <td>Tim McGraw</td>\n",
       "      <td>1</td>\n",
       "      <td>He said the way my blue eyes shined</td>\n",
       "      <td>1</td>\n",
       "    </tr>\n",
       "    <tr>\n",
       "      <th>1</th>\n",
       "      <td>Taylor Swift</td>\n",
       "      <td>Tim McGraw</td>\n",
       "      <td>1</td>\n",
       "      <td>Put those Georgia stars to shame that night</td>\n",
       "      <td>2</td>\n",
       "    </tr>\n",
       "  </tbody>\n",
       "</table>\n",
       "</div>"
      ],
      "text/plain": [
       "     album_name track_title  track_n  \\\n",
       "0  Taylor Swift  Tim McGraw        1   \n",
       "1  Taylor Swift  Tim McGraw        1   \n",
       "\n",
       "                                         lyric  line  \n",
       "0          He said the way my blue eyes shined     1  \n",
       "1  Put those Georgia stars to shame that night     2  "
      ]
     },
     "execution_count": 12,
     "metadata": {},
     "output_type": "execute_result"
    }
   ],
   "source": [
    "#looking at some of the lines of data: shows us the track, and the lyrics per track\n",
    "df.loc[[0,1]]"
   ]
  },
  {
   "cell_type": "code",
   "execution_count": 14,
   "id": "3cada07a-4840-4946-bee0-5ceec3c66e7a",
   "metadata": {},
   "outputs": [
    {
     "data": {
      "text/html": [
       "<div>\n",
       "<style scoped>\n",
       "    .dataframe tbody tr th:only-of-type {\n",
       "        vertical-align: middle;\n",
       "    }\n",
       "\n",
       "    .dataframe tbody tr th {\n",
       "        vertical-align: top;\n",
       "    }\n",
       "\n",
       "    .dataframe thead th {\n",
       "        text-align: right;\n",
       "    }\n",
       "</style>\n",
       "<table border=\"1\" class=\"dataframe\">\n",
       "  <thead>\n",
       "    <tr style=\"text-align: right;\">\n",
       "      <th></th>\n",
       "      <th>album_name</th>\n",
       "      <th>track_title</th>\n",
       "      <th>track_n</th>\n",
       "      <th>lyric</th>\n",
       "      <th>line</th>\n",
       "    </tr>\n",
       "  </thead>\n",
       "  <tbody>\n",
       "    <tr>\n",
       "      <th>607</th>\n",
       "      <td>Taylor Swift</td>\n",
       "      <td>Teardrops on My Guitar (Pop Version)</td>\n",
       "      <td>15</td>\n",
       "      <td>Drew looks at me</td>\n",
       "      <td>43</td>\n",
       "    </tr>\n",
       "    <tr>\n",
       "      <th>608</th>\n",
       "      <td>Taylor Swift</td>\n",
       "      <td>Teardrops on My Guitar (Pop Version)</td>\n",
       "      <td>15</td>\n",
       "      <td>I fake a smile so he won't see</td>\n",
       "      <td>44</td>\n",
       "    </tr>\n",
       "  </tbody>\n",
       "</table>\n",
       "</div>"
      ],
      "text/plain": [
       "       album_name                           track_title  track_n  \\\n",
       "607  Taylor Swift  Teardrops on My Guitar (Pop Version)       15   \n",
       "608  Taylor Swift  Teardrops on My Guitar (Pop Version)       15   \n",
       "\n",
       "                              lyric  line  \n",
       "607                Drew looks at me    43  \n",
       "608  I fake a smile so he won't see    44  "
      ]
     },
     "execution_count": 14,
     "metadata": {},
     "output_type": "execute_result"
    }
   ],
   "source": [
    "df.tail(2)"
   ]
  },
  {
   "cell_type": "code",
   "execution_count": 15,
   "id": "a622ac9a-2bb6-46c0-ac12-2cd0f9801ffd",
   "metadata": {},
   "outputs": [],
   "source": [
    "#I realized that this data set only includes her first album so I will not import data sets for all 9 of her albums"
   ]
  },
  {
   "cell_type": "code",
   "execution_count": 17,
   "id": "a9b134ba-e3b4-4589-9f6c-55770306c74e",
   "metadata": {},
   "outputs": [],
   "source": [
    "df2 = pd.read_csv('02-fearless_taylors_version.csv')\n",
    "df3 = pd.read_csv('03-speak_now_deluxe_package.csv')\n",
    "df3 = pd.read_csv('04-red_deluxe_edition.csv')\n",
    "df3 = pd.read_csv('05-1989_deluxe.csv')\n",
    "df3 = pd.read_csv('06-reputation.csv')\n",
    "df3 = pd.read_csv('07-lover.csv')\n",
    "df3 = pd.read_csv('08-folklore_deluxe_version.csv')\n",
    "df3 = pd.read_csv('09-evermore_deluxe_version.csv')"
   ]
  },
  {
   "cell_type": "code",
   "execution_count": 22,
   "id": "180fc815-b264-4c41-afc6-fe9aa8fef5c1",
   "metadata": {},
   "outputs": [
    {
     "data": {
      "text/plain": [
       "<bound method DataFrame.info of                        album_name  \\\n",
       "0     Fearless (Taylor’s Version)   \n",
       "1     Fearless (Taylor’s Version)   \n",
       "2     Fearless (Taylor’s Version)   \n",
       "3     Fearless (Taylor’s Version)   \n",
       "4     Fearless (Taylor’s Version)   \n",
       "...                           ...   \n",
       "1165  Fearless (Taylor’s Version)   \n",
       "1166  Fearless (Taylor’s Version)   \n",
       "1167  Fearless (Taylor’s Version)   \n",
       "1168  Fearless (Taylor’s Version)   \n",
       "1169  Fearless (Taylor’s Version)   \n",
       "\n",
       "                                           track_title  track_n  \\\n",
       "0                          Fearless (Taylor’s Version)        1   \n",
       "1                          Fearless (Taylor’s Version)        1   \n",
       "2                          Fearless (Taylor’s Version)        1   \n",
       "3                          Fearless (Taylor’s Version)        1   \n",
       "4                          Fearless (Taylor’s Version)        1   \n",
       "...                                                ...      ...   \n",
       "1165  Bye Bye Baby (Taylor’s Version) [From the Vault]       26   \n",
       "1166  Bye Bye Baby (Taylor’s Version) [From the Vault]       26   \n",
       "1167  Bye Bye Baby (Taylor’s Version) [From the Vault]       26   \n",
       "1168  Bye Bye Baby (Taylor’s Version) [From the Vault]       26   \n",
       "1169  Bye Bye Baby (Taylor’s Version) [From the Vault]       26   \n",
       "\n",
       "                                                  lyric  line  \n",
       "0                       There's something 'bout the way     1  \n",
       "1                The street looks when it's just rained     2  \n",
       "2     There's a glow off the pavement, you walk me t...     3  \n",
       "3     And you know I wanna ask you to dance right there     4  \n",
       "4                In the middle of the parking lot, yeah     5  \n",
       "...                                                 ...   ...  \n",
       "1165                    And all I have is your sympathy    41  \n",
       "1166  'Cause you took me home but you just couldn't ...    42  \n",
       "1167  Oh, you took me home, I thought you were gonna...    43  \n",
       "1168                                       Bye bye baby    44  \n",
       "1169                                       Bye bye baby    45  \n",
       "\n",
       "[1170 rows x 5 columns]>"
      ]
     },
     "execution_count": 22,
     "metadata": {},
     "output_type": "execute_result"
    }
   ],
   "source": [
    "df2.info"
   ]
  },
  {
   "cell_type": "code",
   "execution_count": 23,
   "id": "26f9e001-3608-457b-b644-f593166cdb22",
   "metadata": {},
   "outputs": [
    {
     "data": {
      "text/plain": [
       "Index(['album_name', 'track_title', 'track_n', 'lyric', 'line'], dtype='object')"
      ]
     },
     "execution_count": 23,
     "metadata": {},
     "output_type": "execute_result"
    }
   ],
   "source": [
    "df2.columns"
   ]
  },
  {
   "cell_type": "code",
   "execution_count": 25,
   "id": "34f5082e-4d28-4708-8c81-ded7f8f7f70f",
   "metadata": {},
   "outputs": [],
   "source": [
    "#Based on the info from Kaggle, where I'm pulling these datasets,they are all set up the same. "
   ]
  },
  {
   "cell_type": "code",
   "execution_count": 28,
   "id": "f698e77e-d641-4d7f-a6e2-6b56af39bc37",
   "metadata": {},
   "outputs": [
    {
     "data": {
      "text/plain": [
       "0                willow\n",
       "1                willow\n",
       "2                willow\n",
       "3                willow\n",
       "4                willow\n",
       "             ...       \n",
       "907    ​it’s time to go\n",
       "908    ​it’s time to go\n",
       "909    ​it’s time to go\n",
       "910    ​it’s time to go\n",
       "911    ​it’s time to go\n",
       "Name: track_title, Length: 912, dtype: object"
      ]
     },
     "execution_count": 28,
     "metadata": {},
     "output_type": "execute_result"
    }
   ],
   "source": [
    "df3['track_title']"
   ]
  },
  {
   "cell_type": "code",
   "execution_count": 29,
   "id": "4929a8cd-6359-433c-866c-66c85771cc43",
   "metadata": {},
   "outputs": [
    {
     "ename": "UnicodeDecodeError",
     "evalue": "'utf-8' codec can't decode byte 0xa0 in position 74408: invalid start byte",
     "output_type": "error",
     "traceback": [
      "\u001b[0;31m---------------------------------------------------------------------------\u001b[0m",
      "\u001b[0;31mUnicodeDecodeError\u001b[0m                        Traceback (most recent call last)",
      "\u001b[0;32m/tmp/ipykernel_103/484660133.py\u001b[0m in \u001b[0;36m<module>\u001b[0;34m\u001b[0m\n\u001b[0;32m----> 1\u001b[0;31m \u001b[0mdft\u001b[0m \u001b[0;34m=\u001b[0m \u001b[0mpd\u001b[0m\u001b[0;34m.\u001b[0m\u001b[0mread_csv\u001b[0m\u001b[0;34m(\u001b[0m\u001b[0;34m'taylor_swift_lyrics.csv'\u001b[0m\u001b[0;34m)\u001b[0m\u001b[0;34m\u001b[0m\u001b[0;34m\u001b[0m\u001b[0m\n\u001b[0m",
      "\u001b[0;32m/opt/conda/lib/python3.9/site-packages/pandas/util/_decorators.py\u001b[0m in \u001b[0;36mwrapper\u001b[0;34m(*args, **kwargs)\u001b[0m\n\u001b[1;32m    309\u001b[0m                     \u001b[0mstacklevel\u001b[0m\u001b[0;34m=\u001b[0m\u001b[0mstacklevel\u001b[0m\u001b[0;34m,\u001b[0m\u001b[0;34m\u001b[0m\u001b[0;34m\u001b[0m\u001b[0m\n\u001b[1;32m    310\u001b[0m                 )\n\u001b[0;32m--> 311\u001b[0;31m             \u001b[0;32mreturn\u001b[0m \u001b[0mfunc\u001b[0m\u001b[0;34m(\u001b[0m\u001b[0;34m*\u001b[0m\u001b[0margs\u001b[0m\u001b[0;34m,\u001b[0m \u001b[0;34m**\u001b[0m\u001b[0mkwargs\u001b[0m\u001b[0;34m)\u001b[0m\u001b[0;34m\u001b[0m\u001b[0;34m\u001b[0m\u001b[0m\n\u001b[0m\u001b[1;32m    312\u001b[0m \u001b[0;34m\u001b[0m\u001b[0m\n\u001b[1;32m    313\u001b[0m         \u001b[0;32mreturn\u001b[0m \u001b[0mwrapper\u001b[0m\u001b[0;34m\u001b[0m\u001b[0;34m\u001b[0m\u001b[0m\n",
      "\u001b[0;32m/opt/conda/lib/python3.9/site-packages/pandas/io/parsers/readers.py\u001b[0m in \u001b[0;36mread_csv\u001b[0;34m(filepath_or_buffer, sep, delimiter, header, names, index_col, usecols, squeeze, prefix, mangle_dupe_cols, dtype, engine, converters, true_values, false_values, skipinitialspace, skiprows, skipfooter, nrows, na_values, keep_default_na, na_filter, verbose, skip_blank_lines, parse_dates, infer_datetime_format, keep_date_col, date_parser, dayfirst, cache_dates, iterator, chunksize, compression, thousands, decimal, lineterminator, quotechar, quoting, doublequote, escapechar, comment, encoding, encoding_errors, dialect, error_bad_lines, warn_bad_lines, on_bad_lines, delim_whitespace, low_memory, memory_map, float_precision, storage_options)\u001b[0m\n\u001b[1;32m    584\u001b[0m     \u001b[0mkwds\u001b[0m\u001b[0;34m.\u001b[0m\u001b[0mupdate\u001b[0m\u001b[0;34m(\u001b[0m\u001b[0mkwds_defaults\u001b[0m\u001b[0;34m)\u001b[0m\u001b[0;34m\u001b[0m\u001b[0;34m\u001b[0m\u001b[0m\n\u001b[1;32m    585\u001b[0m \u001b[0;34m\u001b[0m\u001b[0m\n\u001b[0;32m--> 586\u001b[0;31m     \u001b[0;32mreturn\u001b[0m \u001b[0m_read\u001b[0m\u001b[0;34m(\u001b[0m\u001b[0mfilepath_or_buffer\u001b[0m\u001b[0;34m,\u001b[0m \u001b[0mkwds\u001b[0m\u001b[0;34m)\u001b[0m\u001b[0;34m\u001b[0m\u001b[0;34m\u001b[0m\u001b[0m\n\u001b[0m\u001b[1;32m    587\u001b[0m \u001b[0;34m\u001b[0m\u001b[0m\n\u001b[1;32m    588\u001b[0m \u001b[0;34m\u001b[0m\u001b[0m\n",
      "\u001b[0;32m/opt/conda/lib/python3.9/site-packages/pandas/io/parsers/readers.py\u001b[0m in \u001b[0;36m_read\u001b[0;34m(filepath_or_buffer, kwds)\u001b[0m\n\u001b[1;32m    480\u001b[0m \u001b[0;34m\u001b[0m\u001b[0m\n\u001b[1;32m    481\u001b[0m     \u001b[0;31m# Create the parser.\u001b[0m\u001b[0;34m\u001b[0m\u001b[0;34m\u001b[0m\u001b[0;34m\u001b[0m\u001b[0m\n\u001b[0;32m--> 482\u001b[0;31m     \u001b[0mparser\u001b[0m \u001b[0;34m=\u001b[0m \u001b[0mTextFileReader\u001b[0m\u001b[0;34m(\u001b[0m\u001b[0mfilepath_or_buffer\u001b[0m\u001b[0;34m,\u001b[0m \u001b[0;34m**\u001b[0m\u001b[0mkwds\u001b[0m\u001b[0;34m)\u001b[0m\u001b[0;34m\u001b[0m\u001b[0;34m\u001b[0m\u001b[0m\n\u001b[0m\u001b[1;32m    483\u001b[0m \u001b[0;34m\u001b[0m\u001b[0m\n\u001b[1;32m    484\u001b[0m     \u001b[0;32mif\u001b[0m \u001b[0mchunksize\u001b[0m \u001b[0;32mor\u001b[0m \u001b[0miterator\u001b[0m\u001b[0;34m:\u001b[0m\u001b[0;34m\u001b[0m\u001b[0;34m\u001b[0m\u001b[0m\n",
      "\u001b[0;32m/opt/conda/lib/python3.9/site-packages/pandas/io/parsers/readers.py\u001b[0m in \u001b[0;36m__init__\u001b[0;34m(self, f, engine, **kwds)\u001b[0m\n\u001b[1;32m    809\u001b[0m             \u001b[0mself\u001b[0m\u001b[0;34m.\u001b[0m\u001b[0moptions\u001b[0m\u001b[0;34m[\u001b[0m\u001b[0;34m\"has_index_names\"\u001b[0m\u001b[0;34m]\u001b[0m \u001b[0;34m=\u001b[0m \u001b[0mkwds\u001b[0m\u001b[0;34m[\u001b[0m\u001b[0;34m\"has_index_names\"\u001b[0m\u001b[0;34m]\u001b[0m\u001b[0;34m\u001b[0m\u001b[0;34m\u001b[0m\u001b[0m\n\u001b[1;32m    810\u001b[0m \u001b[0;34m\u001b[0m\u001b[0m\n\u001b[0;32m--> 811\u001b[0;31m         \u001b[0mself\u001b[0m\u001b[0;34m.\u001b[0m\u001b[0m_engine\u001b[0m \u001b[0;34m=\u001b[0m \u001b[0mself\u001b[0m\u001b[0;34m.\u001b[0m\u001b[0m_make_engine\u001b[0m\u001b[0;34m(\u001b[0m\u001b[0mself\u001b[0m\u001b[0;34m.\u001b[0m\u001b[0mengine\u001b[0m\u001b[0;34m)\u001b[0m\u001b[0;34m\u001b[0m\u001b[0;34m\u001b[0m\u001b[0m\n\u001b[0m\u001b[1;32m    812\u001b[0m \u001b[0;34m\u001b[0m\u001b[0m\n\u001b[1;32m    813\u001b[0m     \u001b[0;32mdef\u001b[0m \u001b[0mclose\u001b[0m\u001b[0;34m(\u001b[0m\u001b[0mself\u001b[0m\u001b[0;34m)\u001b[0m\u001b[0;34m:\u001b[0m\u001b[0;34m\u001b[0m\u001b[0;34m\u001b[0m\u001b[0m\n",
      "\u001b[0;32m/opt/conda/lib/python3.9/site-packages/pandas/io/parsers/readers.py\u001b[0m in \u001b[0;36m_make_engine\u001b[0;34m(self, engine)\u001b[0m\n\u001b[1;32m   1038\u001b[0m             )\n\u001b[1;32m   1039\u001b[0m         \u001b[0;31m# error: Too many arguments for \"ParserBase\"\u001b[0m\u001b[0;34m\u001b[0m\u001b[0;34m\u001b[0m\u001b[0;34m\u001b[0m\u001b[0m\n\u001b[0;32m-> 1040\u001b[0;31m         \u001b[0;32mreturn\u001b[0m \u001b[0mmapping\u001b[0m\u001b[0;34m[\u001b[0m\u001b[0mengine\u001b[0m\u001b[0;34m]\u001b[0m\u001b[0;34m(\u001b[0m\u001b[0mself\u001b[0m\u001b[0;34m.\u001b[0m\u001b[0mf\u001b[0m\u001b[0;34m,\u001b[0m \u001b[0;34m**\u001b[0m\u001b[0mself\u001b[0m\u001b[0;34m.\u001b[0m\u001b[0moptions\u001b[0m\u001b[0;34m)\u001b[0m  \u001b[0;31m# type: ignore[call-arg]\u001b[0m\u001b[0;34m\u001b[0m\u001b[0;34m\u001b[0m\u001b[0m\n\u001b[0m\u001b[1;32m   1041\u001b[0m \u001b[0;34m\u001b[0m\u001b[0m\n\u001b[1;32m   1042\u001b[0m     \u001b[0;32mdef\u001b[0m \u001b[0m_failover_to_python\u001b[0m\u001b[0;34m(\u001b[0m\u001b[0mself\u001b[0m\u001b[0;34m)\u001b[0m\u001b[0;34m:\u001b[0m\u001b[0;34m\u001b[0m\u001b[0;34m\u001b[0m\u001b[0m\n",
      "\u001b[0;32m/opt/conda/lib/python3.9/site-packages/pandas/io/parsers/c_parser_wrapper.py\u001b[0m in \u001b[0;36m__init__\u001b[0;34m(self, src, **kwds)\u001b[0m\n\u001b[1;32m     67\u001b[0m         \u001b[0mkwds\u001b[0m\u001b[0;34m[\u001b[0m\u001b[0;34m\"dtype\"\u001b[0m\u001b[0;34m]\u001b[0m \u001b[0;34m=\u001b[0m \u001b[0mensure_dtype_objs\u001b[0m\u001b[0;34m(\u001b[0m\u001b[0mkwds\u001b[0m\u001b[0;34m.\u001b[0m\u001b[0mget\u001b[0m\u001b[0;34m(\u001b[0m\u001b[0;34m\"dtype\"\u001b[0m\u001b[0;34m,\u001b[0m \u001b[0;32mNone\u001b[0m\u001b[0;34m)\u001b[0m\u001b[0;34m)\u001b[0m\u001b[0;34m\u001b[0m\u001b[0;34m\u001b[0m\u001b[0m\n\u001b[1;32m     68\u001b[0m         \u001b[0;32mtry\u001b[0m\u001b[0;34m:\u001b[0m\u001b[0;34m\u001b[0m\u001b[0;34m\u001b[0m\u001b[0m\n\u001b[0;32m---> 69\u001b[0;31m             \u001b[0mself\u001b[0m\u001b[0;34m.\u001b[0m\u001b[0m_reader\u001b[0m \u001b[0;34m=\u001b[0m \u001b[0mparsers\u001b[0m\u001b[0;34m.\u001b[0m\u001b[0mTextReader\u001b[0m\u001b[0;34m(\u001b[0m\u001b[0mself\u001b[0m\u001b[0;34m.\u001b[0m\u001b[0mhandles\u001b[0m\u001b[0;34m.\u001b[0m\u001b[0mhandle\u001b[0m\u001b[0;34m,\u001b[0m \u001b[0;34m**\u001b[0m\u001b[0mkwds\u001b[0m\u001b[0;34m)\u001b[0m\u001b[0;34m\u001b[0m\u001b[0;34m\u001b[0m\u001b[0m\n\u001b[0m\u001b[1;32m     70\u001b[0m         \u001b[0;32mexcept\u001b[0m \u001b[0mException\u001b[0m\u001b[0;34m:\u001b[0m\u001b[0;34m\u001b[0m\u001b[0;34m\u001b[0m\u001b[0m\n\u001b[1;32m     71\u001b[0m             \u001b[0mself\u001b[0m\u001b[0;34m.\u001b[0m\u001b[0mhandles\u001b[0m\u001b[0;34m.\u001b[0m\u001b[0mclose\u001b[0m\u001b[0;34m(\u001b[0m\u001b[0;34m)\u001b[0m\u001b[0;34m\u001b[0m\u001b[0;34m\u001b[0m\u001b[0m\n",
      "\u001b[0;32m/opt/conda/lib/python3.9/site-packages/pandas/_libs/parsers.pyx\u001b[0m in \u001b[0;36mpandas._libs.parsers.TextReader.__cinit__\u001b[0;34m()\u001b[0m\n",
      "\u001b[0;32m/opt/conda/lib/python3.9/site-packages/pandas/_libs/parsers.pyx\u001b[0m in \u001b[0;36mpandas._libs.parsers.TextReader._get_header\u001b[0;34m()\u001b[0m\n",
      "\u001b[0;32m/opt/conda/lib/python3.9/site-packages/pandas/_libs/parsers.pyx\u001b[0m in \u001b[0;36mpandas._libs.parsers.TextReader._tokenize_rows\u001b[0;34m()\u001b[0m\n",
      "\u001b[0;32m/opt/conda/lib/python3.9/site-packages/pandas/_libs/parsers.pyx\u001b[0m in \u001b[0;36mpandas._libs.parsers.raise_parser_error\u001b[0;34m()\u001b[0m\n",
      "\u001b[0;31mUnicodeDecodeError\u001b[0m: 'utf-8' codec can't decode byte 0xa0 in position 74408: invalid start byte"
     ]
    }
   ],
   "source": [
    "dft = pd.read_csv('taylor_swift_lyrics.csv')"
   ]
  },
  {
   "cell_type": "code",
   "execution_count": null,
   "id": "17300d66-80ea-4142-b070-a354355c9e70",
   "metadata": {},
   "outputs": [],
   "source": []
  }
 ],
 "metadata": {
  "kernelspec": {
   "display_name": "Python 3 (ipykernel)",
   "language": "python",
   "name": "python3"
  },
  "language_info": {
   "codemirror_mode": {
    "name": "ipython",
    "version": 3
   },
   "file_extension": ".py",
   "mimetype": "text/x-python",
   "name": "python",
   "nbconvert_exporter": "python",
   "pygments_lexer": "ipython3",
   "version": "3.9.6"
  }
 },
 "nbformat": 4,
 "nbformat_minor": 5
}
