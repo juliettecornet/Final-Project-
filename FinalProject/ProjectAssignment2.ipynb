{
 "cells": [
  {
   "cell_type": "code",
   "execution_count": 15,
   "id": "38eb9323-689e-445b-a0a8-aca990655ae6",
   "metadata": {},
   "outputs": [],
   "source": [
    "#FINAL prject \n",
    "# New Final Project Proposal\n",
    "## Comnpare the differnt eras/albums of Taylor Swift\n",
    "\n",
    "# New Final Project Proposal\n",
    "## Comnpare the differnt eras/albums of Taylor Swift\n",
    "\n",
    "#For my final project, I have decided that I wanted to do textual analysis of all of Taylor Swift's songs and albums to try and track her different \"eras\". For those unfamiliar, Taylor is known her her constantly changing persona over the years since she has been constantly reinventing herself. While this is very apparent in the changes of her physial appearance and in her music videos and concert performance, I want to see if these shifts are apparent from the lyrics in all her albums alone. Through data and textual analysis, I want to see if certain trends in her lyrics give us insifht into the different changes she has undergone over the years. \n",
    "\n",
    "#The dataset I will be using is from Github and has every lyric from every song of every one of her albums: https://github.com/rfordatascience/tidytuesday/blob/master/data/2020/2020-09-29/taylor_swift_lyrics.csv . However, I might find that it could be easier to just go into her song and import them myself. But for now I will be working with this Github dataset.\n",
    "\n",
    "#To find differences in her lyrics, I want to look at word count to see if length plays any part in her different eras. From there, I want to look at the word frequencies to find out if the most common words in each album give us a sense of her persona. I will then compare those words to what I know about her persona. I also think I would be interesting to do sentiment checks and polarity checks to find the overall tone in each of her albums. \n",
    "\n",
    "#For now, I hypthesize that there will be some kiind of tonal differences between her albums, although some might be more obvious than others. "
   ]
  },
  {
   "cell_type": "code",
   "execution_count": 16,
   "id": "cc03e454-0d42-4a95-b9e0-ec93ed52275e",
   "metadata": {},
   "outputs": [],
   "source": [
    "import pandas as pd"
   ]
  },
  {
   "cell_type": "code",
   "execution_count": 19,
   "id": "c4ac3cf2-d2ac-420c-972d-c8eae3affa43",
   "metadata": {
    "tags": []
   },
   "outputs": [],
   "source": [
    "#importing the taylor swift dataset \n",
    "df = pd.read_csv('https://raw.githubusercontent.com/rfordatascience/tidytuesday/master/data/2020/2020-09-29/taylor_swift_lyrics.csv')"
   ]
  },
  {
   "cell_type": "code",
   "execution_count": 18,
   "id": "fdb6e7b5-eb4f-4dc4-9281-ae8be3910985",
   "metadata": {},
   "outputs": [
    {
     "data": {
      "text/html": [
       "<div>\n",
       "<style scoped>\n",
       "    .dataframe tbody tr th:only-of-type {\n",
       "        vertical-align: middle;\n",
       "    }\n",
       "\n",
       "    .dataframe tbody tr th {\n",
       "        vertical-align: top;\n",
       "    }\n",
       "\n",
       "    .dataframe thead th {\n",
       "        text-align: right;\n",
       "    }\n",
       "</style>\n",
       "<table border=\"1\" class=\"dataframe\">\n",
       "  <thead>\n",
       "    <tr style=\"text-align: right;\">\n",
       "      <th></th>\n",
       "      <th>Artist</th>\n",
       "      <th>Album</th>\n",
       "      <th>Title</th>\n",
       "      <th>Lyrics</th>\n",
       "    </tr>\n",
       "  </thead>\n",
       "  <tbody>\n",
       "    <tr>\n",
       "      <th>0</th>\n",
       "      <td>Taylor Swift</td>\n",
       "      <td>Taylor Swift</td>\n",
       "      <td>Tim McGraw</td>\n",
       "      <td>He said the way my blue eyes shinx\\nPut those ...</td>\n",
       "    </tr>\n",
       "    <tr>\n",
       "      <th>1</th>\n",
       "      <td>Taylor Swift</td>\n",
       "      <td>Taylor Swift</td>\n",
       "      <td>Picture to Burn</td>\n",
       "      <td>State the obvious, I didn't get my perfect fan...</td>\n",
       "    </tr>\n",
       "    <tr>\n",
       "      <th>2</th>\n",
       "      <td>Taylor Swift</td>\n",
       "      <td>Taylor Swift</td>\n",
       "      <td>Teardrops on my Guitar</td>\n",
       "      <td>Drew looks at me,\\nI fake a smile so he won't ...</td>\n",
       "    </tr>\n",
       "    <tr>\n",
       "      <th>3</th>\n",
       "      <td>Taylor Swift</td>\n",
       "      <td>Taylor Swift</td>\n",
       "      <td>A Place in This World</td>\n",
       "      <td>I don't know what I want, so don't ask me\\n'Ca...</td>\n",
       "    </tr>\n",
       "    <tr>\n",
       "      <th>4</th>\n",
       "      <td>Taylor Swift</td>\n",
       "      <td>Taylor Swift</td>\n",
       "      <td>Cold As You</td>\n",
       "      <td>You have a way of coming easily to me\\nAnd whe...</td>\n",
       "    </tr>\n",
       "    <tr>\n",
       "      <th>...</th>\n",
       "      <td>...</td>\n",
       "      <td>...</td>\n",
       "      <td>...</td>\n",
       "      <td>...</td>\n",
       "    </tr>\n",
       "    <tr>\n",
       "      <th>127</th>\n",
       "      <td>Taylor Swift</td>\n",
       "      <td>folklore</td>\n",
       "      <td>mad woman</td>\n",
       "      <td>What did you think I'd say to that?\\nDoes a sc...</td>\n",
       "    </tr>\n",
       "    <tr>\n",
       "      <th>128</th>\n",
       "      <td>Taylor Swift</td>\n",
       "      <td>folklore</td>\n",
       "      <td>epiphany</td>\n",
       "      <td>Keep your helmet\\nKeep your life, son\\nJust a ...</td>\n",
       "    </tr>\n",
       "    <tr>\n",
       "      <th>129</th>\n",
       "      <td>Taylor Swift</td>\n",
       "      <td>folklore</td>\n",
       "      <td>betty</td>\n",
       "      <td>Betty, I won't make assumptions about why you ...</td>\n",
       "    </tr>\n",
       "    <tr>\n",
       "      <th>130</th>\n",
       "      <td>Taylor Swift</td>\n",
       "      <td>folklore</td>\n",
       "      <td>peace</td>\n",
       "      <td>Our coming of age has come and gone\\nSuddenly ...</td>\n",
       "    </tr>\n",
       "    <tr>\n",
       "      <th>131</th>\n",
       "      <td>Taylor Swift</td>\n",
       "      <td>folklore</td>\n",
       "      <td>hoax</td>\n",
       "      <td>My only one\\nMy smoking gun\\nMy eclipsed sun\\n...</td>\n",
       "    </tr>\n",
       "  </tbody>\n",
       "</table>\n",
       "<p>132 rows × 4 columns</p>\n",
       "</div>"
      ],
      "text/plain": [
       "           Artist           Album                   Title   \\\n",
       "0    Taylor Swift   Taylor Swift                Tim McGraw   \n",
       "1    Taylor Swift   Taylor Swift           Picture to Burn   \n",
       "2    Taylor Swift   Taylor Swift   Teardrops on my Guitar    \n",
       "3    Taylor Swift   Taylor Swift    A Place in This World    \n",
       "4    Taylor Swift   Taylor Swift              Cold As You    \n",
       "..             ...            ...                      ...   \n",
       "127  Taylor Swift       folklore                 mad woman   \n",
       "128  Taylor Swift       folklore                  epiphany   \n",
       "129  Taylor Swift       folklore                     betty   \n",
       "130  Taylor Swift       folklore                     peace   \n",
       "131  Taylor Swift       folklore                      hoax   \n",
       "\n",
       "                                                Lyrics  \n",
       "0    He said the way my blue eyes shinx\\nPut those ...  \n",
       "1    State the obvious, I didn't get my perfect fan...  \n",
       "2    Drew looks at me,\\nI fake a smile so he won't ...  \n",
       "3    I don't know what I want, so don't ask me\\n'Ca...  \n",
       "4    You have a way of coming easily to me\\nAnd whe...  \n",
       "..                                                 ...  \n",
       "127  What did you think I'd say to that?\\nDoes a sc...  \n",
       "128  Keep your helmet\\nKeep your life, son\\nJust a ...  \n",
       "129  Betty, I won't make assumptions about why you ...  \n",
       "130  Our coming of age has come and gone\\nSuddenly ...  \n",
       "131  My only one\\nMy smoking gun\\nMy eclipsed sun\\n...  \n",
       "\n",
       "[132 rows x 4 columns]"
      ]
     },
     "execution_count": 18,
     "metadata": {},
     "output_type": "execute_result"
    }
   ],
   "source": [
    "df"
   ]
  },
  {
   "cell_type": "code",
   "execution_count": 20,
   "id": "3817dd90-fd33-4057-8b21-cdeb9cc3e99f",
   "metadata": {},
   "outputs": [
    {
     "data": {
      "text/plain": [
       "Index(['Artist ', 'Album', 'Title ', 'Lyrics'], dtype='object')"
      ]
     },
     "execution_count": 20,
     "metadata": {},
     "output_type": "execute_result"
    }
   ],
   "source": [
    "#looking at some summary info about the data\n",
    "df.columns"
   ]
  },
  {
   "cell_type": "code",
   "execution_count": 21,
   "id": "21bc7acc-fbc2-446a-aef3-ac65944c7fa7",
   "metadata": {},
   "outputs": [
    {
     "data": {
      "text/plain": [
       "Artist     object\n",
       "Album      object\n",
       "Title      object\n",
       "Lyrics     object\n",
       "dtype: object"
      ]
     },
     "execution_count": 21,
     "metadata": {},
     "output_type": "execute_result"
    }
   ],
   "source": [
    "df.dtypes"
   ]
  },
  {
   "cell_type": "code",
   "execution_count": 22,
   "id": "3ad8dae6-9965-4718-90cf-b453d72e687d",
   "metadata": {},
   "outputs": [
    {
     "data": {
      "text/plain": [
       "<bound method DataFrame.info of            Artist           Album                   Title   \\\n",
       "0    Taylor Swift   Taylor Swift                Tim McGraw   \n",
       "1    Taylor Swift   Taylor Swift           Picture to Burn   \n",
       "2    Taylor Swift   Taylor Swift   Teardrops on my Guitar    \n",
       "3    Taylor Swift   Taylor Swift    A Place in This World    \n",
       "4    Taylor Swift   Taylor Swift              Cold As You    \n",
       "..             ...            ...                      ...   \n",
       "127  Taylor Swift       folklore                 mad woman   \n",
       "128  Taylor Swift       folklore                  epiphany   \n",
       "129  Taylor Swift       folklore                     betty   \n",
       "130  Taylor Swift       folklore                     peace   \n",
       "131  Taylor Swift       folklore                      hoax   \n",
       "\n",
       "                                                Lyrics  \n",
       "0    He said the way my blue eyes shinx\\nPut those ...  \n",
       "1    State the obvious, I didn't get my perfect fan...  \n",
       "2    Drew looks at me,\\nI fake a smile so he won't ...  \n",
       "3    I don't know what I want, so don't ask me\\n'Ca...  \n",
       "4    You have a way of coming easily to me\\nAnd whe...  \n",
       "..                                                 ...  \n",
       "127  What did you think I'd say to that?\\nDoes a sc...  \n",
       "128  Keep your helmet\\nKeep your life, son\\nJust a ...  \n",
       "129  Betty, I won't make assumptions about why you ...  \n",
       "130  Our coming of age has come and gone\\nSuddenly ...  \n",
       "131  My only one\\nMy smoking gun\\nMy eclipsed sun\\n...  \n",
       "\n",
       "[132 rows x 4 columns]>"
      ]
     },
     "execution_count": 22,
     "metadata": {},
     "output_type": "execute_result"
    }
   ],
   "source": [
    "df.info"
   ]
  },
  {
   "cell_type": "code",
   "execution_count": 23,
   "id": "4ec29304-12f8-484d-a807-66d4fa6bed56",
   "metadata": {},
   "outputs": [
    {
     "data": {
      "text/html": [
       "<div>\n",
       "<style scoped>\n",
       "    .dataframe tbody tr th:only-of-type {\n",
       "        vertical-align: middle;\n",
       "    }\n",
       "\n",
       "    .dataframe tbody tr th {\n",
       "        vertical-align: top;\n",
       "    }\n",
       "\n",
       "    .dataframe thead th {\n",
       "        text-align: right;\n",
       "    }\n",
       "</style>\n",
       "<table border=\"1\" class=\"dataframe\">\n",
       "  <thead>\n",
       "    <tr style=\"text-align: right;\">\n",
       "      <th></th>\n",
       "      <th>Artist</th>\n",
       "      <th>Album</th>\n",
       "      <th>Title</th>\n",
       "      <th>Lyrics</th>\n",
       "    </tr>\n",
       "  </thead>\n",
       "  <tbody>\n",
       "    <tr>\n",
       "      <th>0</th>\n",
       "      <td>Taylor Swift</td>\n",
       "      <td>Taylor Swift</td>\n",
       "      <td>Tim McGraw</td>\n",
       "      <td>He said the way my blue eyes shinx\\nPut those ...</td>\n",
       "    </tr>\n",
       "    <tr>\n",
       "      <th>1</th>\n",
       "      <td>Taylor Swift</td>\n",
       "      <td>Taylor Swift</td>\n",
       "      <td>Picture to Burn</td>\n",
       "      <td>State the obvious, I didn't get my perfect fan...</td>\n",
       "    </tr>\n",
       "  </tbody>\n",
       "</table>\n",
       "</div>"
      ],
      "text/plain": [
       "         Artist           Album           Title   \\\n",
       "0  Taylor Swift   Taylor Swift        Tim McGraw   \n",
       "1  Taylor Swift   Taylor Swift   Picture to Burn   \n",
       "\n",
       "                                              Lyrics  \n",
       "0  He said the way my blue eyes shinx\\nPut those ...  \n",
       "1  State the obvious, I didn't get my perfect fan...  "
      ]
     },
     "execution_count": 23,
     "metadata": {},
     "output_type": "execute_result"
    }
   ],
   "source": [
    "df.loc[[0,1]]"
   ]
  },
  {
   "cell_type": "code",
   "execution_count": 24,
   "id": "f20c9092-116a-4e94-9783-147f3312c870",
   "metadata": {},
   "outputs": [
    {
     "data": {
      "text/html": [
       "<div>\n",
       "<style scoped>\n",
       "    .dataframe tbody tr th:only-of-type {\n",
       "        vertical-align: middle;\n",
       "    }\n",
       "\n",
       "    .dataframe tbody tr th {\n",
       "        vertical-align: top;\n",
       "    }\n",
       "\n",
       "    .dataframe thead th {\n",
       "        text-align: right;\n",
       "    }\n",
       "</style>\n",
       "<table border=\"1\" class=\"dataframe\">\n",
       "  <thead>\n",
       "    <tr style=\"text-align: right;\">\n",
       "      <th></th>\n",
       "      <th>Artist</th>\n",
       "      <th>Album</th>\n",
       "      <th>Title</th>\n",
       "      <th>Lyrics</th>\n",
       "    </tr>\n",
       "  </thead>\n",
       "  <tbody>\n",
       "    <tr>\n",
       "      <th>130</th>\n",
       "      <td>Taylor Swift</td>\n",
       "      <td>folklore</td>\n",
       "      <td>peace</td>\n",
       "      <td>Our coming of age has come and gone\\nSuddenly ...</td>\n",
       "    </tr>\n",
       "    <tr>\n",
       "      <th>131</th>\n",
       "      <td>Taylor Swift</td>\n",
       "      <td>folklore</td>\n",
       "      <td>hoax</td>\n",
       "      <td>My only one\\nMy smoking gun\\nMy eclipsed sun\\n...</td>\n",
       "    </tr>\n",
       "  </tbody>\n",
       "</table>\n",
       "</div>"
      ],
      "text/plain": [
       "           Artist       Album Title   \\\n",
       "130  Taylor Swift   folklore   peace   \n",
       "131  Taylor Swift   folklore    hoax   \n",
       "\n",
       "                                                Lyrics  \n",
       "130  Our coming of age has come and gone\\nSuddenly ...  \n",
       "131  My only one\\nMy smoking gun\\nMy eclipsed sun\\n...  "
      ]
     },
     "execution_count": 24,
     "metadata": {},
     "output_type": "execute_result"
    }
   ],
   "source": [
    "df.tail(2)"
   ]
  },
  {
   "cell_type": "code",
   "execution_count": 29,
   "id": "f3af0671-fd61-4004-ac16-3378da8d1901",
   "metadata": {},
   "outputs": [
    {
     "data": {
      "text/plain": [
       "0      Taylor Swift \n",
       "1      Taylor Swift \n",
       "2      Taylor Swift \n",
       "3      Taylor Swift \n",
       "4      Taylor Swift \n",
       "           ...      \n",
       "127        folklore \n",
       "128        folklore \n",
       "129        folklore \n",
       "130        folklore \n",
       "131        folklore \n",
       "Name: Album, Length: 132, dtype: object"
      ]
     },
     "execution_count": 29,
     "metadata": {},
     "output_type": "execute_result"
    }
   ],
   "source": [
    "df.loc[:,\"Album\"]"
   ]
  },
  {
   "cell_type": "code",
   "execution_count": 34,
   "id": "a179bb56-3c78-4f96-8b0c-3b4c5a803d93",
   "metadata": {},
   "outputs": [],
   "source": [
    "#Beacuse my data isn't numerical, it's hard for me to do exploratory data visualization. \n",
    "#However, for my final project, i would probably have some kind of bar plot that looks at the most used words for each album. "
   ]
  },
  {
   "cell_type": "code",
   "execution_count": 35,
   "id": "b74a95e5-b26d-4264-9ce8-2cb155ce3312",
   "metadata": {},
   "outputs": [],
   "source": [
    "#I would have also like to look at the polarity of the words used in each album and make a bar plot comparing those. \n",
    "#I would do the same with sentiment.\n",
    "#I also thought it might be intersting to see what places she mentions in her lyrics, see if these places change thorughout her albums and then map the places she mentions. \n",
    "#I also think it would be interesting to indentify Proper nouns versus nouns to see if she uses names (namely her exes names) more during one era or another. "
   ]
  },
  {
   "cell_type": "code",
   "execution_count": null,
   "id": "521fca3a-50b4-4519-8cdb-d4cfe155abe5",
   "metadata": {},
   "outputs": [],
   "source": []
  }
 ],
 "metadata": {
  "kernelspec": {
   "display_name": "Python 3 (ipykernel)",
   "language": "python",
   "name": "python3"
  },
  "language_info": {
   "codemirror_mode": {
    "name": "ipython",
    "version": 3
   },
   "file_extension": ".py",
   "mimetype": "text/x-python",
   "name": "python",
   "nbconvert_exporter": "python",
   "pygments_lexer": "ipython3",
   "version": "3.9.6"
  }
 },
 "nbformat": 4,
 "nbformat_minor": 5
}
